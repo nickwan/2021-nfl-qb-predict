{
  "nbformat": 4,
  "nbformat_minor": 0,
  "metadata": {
    "colab": {
      "name": "2021-nfl-predict-qb-tds.ipynb",
      "provenance": [],
      "mount_file_id": "1BJKUXmq07oEvz8tNOAKPezktiWwUOo6B",
      "authorship_tag": "ABX9TyNUMp8y59hOt5p3BSmIvT37",
      "include_colab_link": true
    },
    "kernelspec": {
      "name": "python3",
      "display_name": "Python 3"
    },
    "language_info": {
      "name": "python"
    },
    "widgets": {
      "application/vnd.jupyter.widget-state+json": {
        "88a9d85a41034a79a73aa7189aaf918c": {
          "model_module": "@jupyter-widgets/controls",
          "model_name": "HBoxModel",
          "model_module_version": "1.5.0",
          "state": {
            "_view_name": "HBoxView",
            "_dom_classes": [],
            "_model_name": "HBoxModel",
            "_view_module": "@jupyter-widgets/controls",
            "_model_module_version": "1.5.0",
            "_view_count": null,
            "_view_module_version": "1.5.0",
            "box_style": "",
            "layout": "IPY_MODEL_7703c071067e48058bcd57955219068f",
            "_model_module": "@jupyter-widgets/controls",
            "children": [
              "IPY_MODEL_7e81804d5a274d9f94c0e4c8703135c0",
              "IPY_MODEL_d3cc30dc9f4a49009cc2996b3a471f07",
              "IPY_MODEL_2fc5d97120124c4d884c46f12a9451bf"
            ]
          }
        },
        "7703c071067e48058bcd57955219068f": {
          "model_module": "@jupyter-widgets/base",
          "model_name": "LayoutModel",
          "model_module_version": "1.2.0",
          "state": {
            "_view_name": "LayoutView",
            "grid_template_rows": null,
            "right": null,
            "justify_content": null,
            "_view_module": "@jupyter-widgets/base",
            "overflow": null,
            "_model_module_version": "1.2.0",
            "_view_count": null,
            "flex_flow": null,
            "width": null,
            "min_width": null,
            "border": null,
            "align_items": null,
            "bottom": null,
            "_model_module": "@jupyter-widgets/base",
            "top": null,
            "grid_column": null,
            "overflow_y": null,
            "overflow_x": null,
            "grid_auto_flow": null,
            "grid_area": null,
            "grid_template_columns": null,
            "flex": null,
            "_model_name": "LayoutModel",
            "justify_items": null,
            "grid_row": null,
            "max_height": null,
            "align_content": null,
            "visibility": null,
            "align_self": null,
            "height": null,
            "min_height": null,
            "padding": null,
            "grid_auto_rows": null,
            "grid_gap": null,
            "max_width": null,
            "order": null,
            "_view_module_version": "1.2.0",
            "grid_template_areas": null,
            "object_position": null,
            "object_fit": null,
            "grid_auto_columns": null,
            "margin": null,
            "display": null,
            "left": null
          }
        },
        "7e81804d5a274d9f94c0e4c8703135c0": {
          "model_module": "@jupyter-widgets/controls",
          "model_name": "HTMLModel",
          "model_module_version": "1.5.0",
          "state": {
            "_view_name": "HTMLView",
            "style": "IPY_MODEL_8c926d44c90c48feb17455a24d9bac9f",
            "_dom_classes": [],
            "description": "",
            "_model_name": "HTMLModel",
            "placeholder": "​",
            "_view_module": "@jupyter-widgets/controls",
            "_model_module_version": "1.5.0",
            "value": "100%",
            "_view_count": null,
            "_view_module_version": "1.5.0",
            "description_tooltip": null,
            "_model_module": "@jupyter-widgets/controls",
            "layout": "IPY_MODEL_83e56290eef448a08666c89101a4f9a1"
          }
        },
        "d3cc30dc9f4a49009cc2996b3a471f07": {
          "model_module": "@jupyter-widgets/controls",
          "model_name": "FloatProgressModel",
          "model_module_version": "1.5.0",
          "state": {
            "_view_name": "ProgressView",
            "style": "IPY_MODEL_2e67d5d3612c4f5e92e843ed47b794dc",
            "_dom_classes": [],
            "description": "",
            "_model_name": "FloatProgressModel",
            "bar_style": "success",
            "max": 23,
            "_view_module": "@jupyter-widgets/controls",
            "_model_module_version": "1.5.0",
            "value": 23,
            "_view_count": null,
            "_view_module_version": "1.5.0",
            "orientation": "horizontal",
            "min": 0,
            "description_tooltip": null,
            "_model_module": "@jupyter-widgets/controls",
            "layout": "IPY_MODEL_5d48b545c7f64d8887ae60fec68032dc"
          }
        },
        "2fc5d97120124c4d884c46f12a9451bf": {
          "model_module": "@jupyter-widgets/controls",
          "model_name": "HTMLModel",
          "model_module_version": "1.5.0",
          "state": {
            "_view_name": "HTMLView",
            "style": "IPY_MODEL_fdc0033c709242d990bea27c152d919e",
            "_dom_classes": [],
            "description": "",
            "_model_name": "HTMLModel",
            "placeholder": "​",
            "_view_module": "@jupyter-widgets/controls",
            "_model_module_version": "1.5.0",
            "value": " 23/23 [04:02&lt;00:00, 17.09s/it]",
            "_view_count": null,
            "_view_module_version": "1.5.0",
            "description_tooltip": null,
            "_model_module": "@jupyter-widgets/controls",
            "layout": "IPY_MODEL_5e83c0f829ae412888e431789b7f1aec"
          }
        },
        "8c926d44c90c48feb17455a24d9bac9f": {
          "model_module": "@jupyter-widgets/controls",
          "model_name": "DescriptionStyleModel",
          "model_module_version": "1.5.0",
          "state": {
            "_view_name": "StyleView",
            "_model_name": "DescriptionStyleModel",
            "description_width": "",
            "_view_module": "@jupyter-widgets/base",
            "_model_module_version": "1.5.0",
            "_view_count": null,
            "_view_module_version": "1.2.0",
            "_model_module": "@jupyter-widgets/controls"
          }
        },
        "83e56290eef448a08666c89101a4f9a1": {
          "model_module": "@jupyter-widgets/base",
          "model_name": "LayoutModel",
          "model_module_version": "1.2.0",
          "state": {
            "_view_name": "LayoutView",
            "grid_template_rows": null,
            "right": null,
            "justify_content": null,
            "_view_module": "@jupyter-widgets/base",
            "overflow": null,
            "_model_module_version": "1.2.0",
            "_view_count": null,
            "flex_flow": null,
            "width": null,
            "min_width": null,
            "border": null,
            "align_items": null,
            "bottom": null,
            "_model_module": "@jupyter-widgets/base",
            "top": null,
            "grid_column": null,
            "overflow_y": null,
            "overflow_x": null,
            "grid_auto_flow": null,
            "grid_area": null,
            "grid_template_columns": null,
            "flex": null,
            "_model_name": "LayoutModel",
            "justify_items": null,
            "grid_row": null,
            "max_height": null,
            "align_content": null,
            "visibility": null,
            "align_self": null,
            "height": null,
            "min_height": null,
            "padding": null,
            "grid_auto_rows": null,
            "grid_gap": null,
            "max_width": null,
            "order": null,
            "_view_module_version": "1.2.0",
            "grid_template_areas": null,
            "object_position": null,
            "object_fit": null,
            "grid_auto_columns": null,
            "margin": null,
            "display": null,
            "left": null
          }
        },
        "2e67d5d3612c4f5e92e843ed47b794dc": {
          "model_module": "@jupyter-widgets/controls",
          "model_name": "ProgressStyleModel",
          "model_module_version": "1.5.0",
          "state": {
            "_view_name": "StyleView",
            "_model_name": "ProgressStyleModel",
            "description_width": "",
            "_view_module": "@jupyter-widgets/base",
            "_model_module_version": "1.5.0",
            "_view_count": null,
            "_view_module_version": "1.2.0",
            "bar_color": null,
            "_model_module": "@jupyter-widgets/controls"
          }
        },
        "5d48b545c7f64d8887ae60fec68032dc": {
          "model_module": "@jupyter-widgets/base",
          "model_name": "LayoutModel",
          "model_module_version": "1.2.0",
          "state": {
            "_view_name": "LayoutView",
            "grid_template_rows": null,
            "right": null,
            "justify_content": null,
            "_view_module": "@jupyter-widgets/base",
            "overflow": null,
            "_model_module_version": "1.2.0",
            "_view_count": null,
            "flex_flow": null,
            "width": null,
            "min_width": null,
            "border": null,
            "align_items": null,
            "bottom": null,
            "_model_module": "@jupyter-widgets/base",
            "top": null,
            "grid_column": null,
            "overflow_y": null,
            "overflow_x": null,
            "grid_auto_flow": null,
            "grid_area": null,
            "grid_template_columns": null,
            "flex": null,
            "_model_name": "LayoutModel",
            "justify_items": null,
            "grid_row": null,
            "max_height": null,
            "align_content": null,
            "visibility": null,
            "align_self": null,
            "height": null,
            "min_height": null,
            "padding": null,
            "grid_auto_rows": null,
            "grid_gap": null,
            "max_width": null,
            "order": null,
            "_view_module_version": "1.2.0",
            "grid_template_areas": null,
            "object_position": null,
            "object_fit": null,
            "grid_auto_columns": null,
            "margin": null,
            "display": null,
            "left": null
          }
        },
        "fdc0033c709242d990bea27c152d919e": {
          "model_module": "@jupyter-widgets/controls",
          "model_name": "DescriptionStyleModel",
          "model_module_version": "1.5.0",
          "state": {
            "_view_name": "StyleView",
            "_model_name": "DescriptionStyleModel",
            "description_width": "",
            "_view_module": "@jupyter-widgets/base",
            "_model_module_version": "1.5.0",
            "_view_count": null,
            "_view_module_version": "1.2.0",
            "_model_module": "@jupyter-widgets/controls"
          }
        },
        "5e83c0f829ae412888e431789b7f1aec": {
          "model_module": "@jupyter-widgets/base",
          "model_name": "LayoutModel",
          "model_module_version": "1.2.0",
          "state": {
            "_view_name": "LayoutView",
            "grid_template_rows": null,
            "right": null,
            "justify_content": null,
            "_view_module": "@jupyter-widgets/base",
            "overflow": null,
            "_model_module_version": "1.2.0",
            "_view_count": null,
            "flex_flow": null,
            "width": null,
            "min_width": null,
            "border": null,
            "align_items": null,
            "bottom": null,
            "_model_module": "@jupyter-widgets/base",
            "top": null,
            "grid_column": null,
            "overflow_y": null,
            "overflow_x": null,
            "grid_auto_flow": null,
            "grid_area": null,
            "grid_template_columns": null,
            "flex": null,
            "_model_name": "LayoutModel",
            "justify_items": null,
            "grid_row": null,
            "max_height": null,
            "align_content": null,
            "visibility": null,
            "align_self": null,
            "height": null,
            "min_height": null,
            "padding": null,
            "grid_auto_rows": null,
            "grid_gap": null,
            "max_width": null,
            "order": null,
            "_view_module_version": "1.2.0",
            "grid_template_areas": null,
            "object_position": null,
            "object_fit": null,
            "grid_auto_columns": null,
            "margin": null,
            "display": null,
            "left": null
          }
        },
        "43a4d255fa15432e83abb3cd2e41f978": {
          "model_module": "@jupyter-widgets/controls",
          "model_name": "HBoxModel",
          "model_module_version": "1.5.0",
          "state": {
            "_view_name": "HBoxView",
            "_dom_classes": [],
            "_model_name": "HBoxModel",
            "_view_module": "@jupyter-widgets/controls",
            "_model_module_version": "1.5.0",
            "_view_count": null,
            "_view_module_version": "1.5.0",
            "box_style": "",
            "layout": "IPY_MODEL_d93592179a2f4e208e68c89e1faa6d08",
            "_model_module": "@jupyter-widgets/controls",
            "children": [
              "IPY_MODEL_0cd24179ecdb4b03b961c78a377dbe77",
              "IPY_MODEL_44ed06551781424c897363c216ab518b",
              "IPY_MODEL_7cfc722c98b14c7f9c8de3d128969a12"
            ]
          }
        },
        "d93592179a2f4e208e68c89e1faa6d08": {
          "model_module": "@jupyter-widgets/base",
          "model_name": "LayoutModel",
          "model_module_version": "1.2.0",
          "state": {
            "_view_name": "LayoutView",
            "grid_template_rows": null,
            "right": null,
            "justify_content": null,
            "_view_module": "@jupyter-widgets/base",
            "overflow": null,
            "_model_module_version": "1.2.0",
            "_view_count": null,
            "flex_flow": null,
            "width": null,
            "min_width": null,
            "border": null,
            "align_items": null,
            "bottom": null,
            "_model_module": "@jupyter-widgets/base",
            "top": null,
            "grid_column": null,
            "overflow_y": null,
            "overflow_x": null,
            "grid_auto_flow": null,
            "grid_area": null,
            "grid_template_columns": null,
            "flex": null,
            "_model_name": "LayoutModel",
            "justify_items": null,
            "grid_row": null,
            "max_height": null,
            "align_content": null,
            "visibility": null,
            "align_self": null,
            "height": null,
            "min_height": null,
            "padding": null,
            "grid_auto_rows": null,
            "grid_gap": null,
            "max_width": null,
            "order": null,
            "_view_module_version": "1.2.0",
            "grid_template_areas": null,
            "object_position": null,
            "object_fit": null,
            "grid_auto_columns": null,
            "margin": null,
            "display": null,
            "left": null
          }
        },
        "0cd24179ecdb4b03b961c78a377dbe77": {
          "model_module": "@jupyter-widgets/controls",
          "model_name": "HTMLModel",
          "model_module_version": "1.5.0",
          "state": {
            "_view_name": "HTMLView",
            "style": "IPY_MODEL_9bbc65871a784c8ba96e37ee496547d1",
            "_dom_classes": [],
            "description": "",
            "_model_name": "HTMLModel",
            "placeholder": "​",
            "_view_module": "@jupyter-widgets/controls",
            "_model_module_version": "1.5.0",
            "value": "100%",
            "_view_count": null,
            "_view_module_version": "1.5.0",
            "description_tooltip": null,
            "_model_module": "@jupyter-widgets/controls",
            "layout": "IPY_MODEL_eb1b76a4ab714015ae651f95011736ce"
          }
        },
        "44ed06551781424c897363c216ab518b": {
          "model_module": "@jupyter-widgets/controls",
          "model_name": "FloatProgressModel",
          "model_module_version": "1.5.0",
          "state": {
            "_view_name": "ProgressView",
            "style": "IPY_MODEL_402020b9b76a4c1480875ea9c62fbd15",
            "_dom_classes": [],
            "description": "",
            "_model_name": "FloatProgressModel",
            "bar_style": "success",
            "max": 3,
            "_view_module": "@jupyter-widgets/controls",
            "_model_module_version": "1.5.0",
            "value": 3,
            "_view_count": null,
            "_view_module_version": "1.5.0",
            "orientation": "horizontal",
            "min": 0,
            "description_tooltip": null,
            "_model_module": "@jupyter-widgets/controls",
            "layout": "IPY_MODEL_03ffde0302e64c1bba2d8e6800fda580"
          }
        },
        "7cfc722c98b14c7f9c8de3d128969a12": {
          "model_module": "@jupyter-widgets/controls",
          "model_name": "HTMLModel",
          "model_module_version": "1.5.0",
          "state": {
            "_view_name": "HTMLView",
            "style": "IPY_MODEL_a3cbb26f45314449a703a0cd342eb0ab",
            "_dom_classes": [],
            "description": "",
            "_model_name": "HTMLModel",
            "placeholder": "​",
            "_view_module": "@jupyter-widgets/controls",
            "_model_module_version": "1.5.0",
            "value": " 3/3 [00:12&lt;00:00,  3.89s/it]",
            "_view_count": null,
            "_view_module_version": "1.5.0",
            "description_tooltip": null,
            "_model_module": "@jupyter-widgets/controls",
            "layout": "IPY_MODEL_3b74b2b2e01340019306afee54cbe97f"
          }
        },
        "9bbc65871a784c8ba96e37ee496547d1": {
          "model_module": "@jupyter-widgets/controls",
          "model_name": "DescriptionStyleModel",
          "model_module_version": "1.5.0",
          "state": {
            "_view_name": "StyleView",
            "_model_name": "DescriptionStyleModel",
            "description_width": "",
            "_view_module": "@jupyter-widgets/base",
            "_model_module_version": "1.5.0",
            "_view_count": null,
            "_view_module_version": "1.2.0",
            "_model_module": "@jupyter-widgets/controls"
          }
        },
        "eb1b76a4ab714015ae651f95011736ce": {
          "model_module": "@jupyter-widgets/base",
          "model_name": "LayoutModel",
          "model_module_version": "1.2.0",
          "state": {
            "_view_name": "LayoutView",
            "grid_template_rows": null,
            "right": null,
            "justify_content": null,
            "_view_module": "@jupyter-widgets/base",
            "overflow": null,
            "_model_module_version": "1.2.0",
            "_view_count": null,
            "flex_flow": null,
            "width": null,
            "min_width": null,
            "border": null,
            "align_items": null,
            "bottom": null,
            "_model_module": "@jupyter-widgets/base",
            "top": null,
            "grid_column": null,
            "overflow_y": null,
            "overflow_x": null,
            "grid_auto_flow": null,
            "grid_area": null,
            "grid_template_columns": null,
            "flex": null,
            "_model_name": "LayoutModel",
            "justify_items": null,
            "grid_row": null,
            "max_height": null,
            "align_content": null,
            "visibility": null,
            "align_self": null,
            "height": null,
            "min_height": null,
            "padding": null,
            "grid_auto_rows": null,
            "grid_gap": null,
            "max_width": null,
            "order": null,
            "_view_module_version": "1.2.0",
            "grid_template_areas": null,
            "object_position": null,
            "object_fit": null,
            "grid_auto_columns": null,
            "margin": null,
            "display": null,
            "left": null
          }
        },
        "402020b9b76a4c1480875ea9c62fbd15": {
          "model_module": "@jupyter-widgets/controls",
          "model_name": "ProgressStyleModel",
          "model_module_version": "1.5.0",
          "state": {
            "_view_name": "StyleView",
            "_model_name": "ProgressStyleModel",
            "description_width": "",
            "_view_module": "@jupyter-widgets/base",
            "_model_module_version": "1.5.0",
            "_view_count": null,
            "_view_module_version": "1.2.0",
            "bar_color": null,
            "_model_module": "@jupyter-widgets/controls"
          }
        },
        "03ffde0302e64c1bba2d8e6800fda580": {
          "model_module": "@jupyter-widgets/base",
          "model_name": "LayoutModel",
          "model_module_version": "1.2.0",
          "state": {
            "_view_name": "LayoutView",
            "grid_template_rows": null,
            "right": null,
            "justify_content": null,
            "_view_module": "@jupyter-widgets/base",
            "overflow": null,
            "_model_module_version": "1.2.0",
            "_view_count": null,
            "flex_flow": null,
            "width": null,
            "min_width": null,
            "border": null,
            "align_items": null,
            "bottom": null,
            "_model_module": "@jupyter-widgets/base",
            "top": null,
            "grid_column": null,
            "overflow_y": null,
            "overflow_x": null,
            "grid_auto_flow": null,
            "grid_area": null,
            "grid_template_columns": null,
            "flex": null,
            "_model_name": "LayoutModel",
            "justify_items": null,
            "grid_row": null,
            "max_height": null,
            "align_content": null,
            "visibility": null,
            "align_self": null,
            "height": null,
            "min_height": null,
            "padding": null,
            "grid_auto_rows": null,
            "grid_gap": null,
            "max_width": null,
            "order": null,
            "_view_module_version": "1.2.0",
            "grid_template_areas": null,
            "object_position": null,
            "object_fit": null,
            "grid_auto_columns": null,
            "margin": null,
            "display": null,
            "left": null
          }
        },
        "a3cbb26f45314449a703a0cd342eb0ab": {
          "model_module": "@jupyter-widgets/controls",
          "model_name": "DescriptionStyleModel",
          "model_module_version": "1.5.0",
          "state": {
            "_view_name": "StyleView",
            "_model_name": "DescriptionStyleModel",
            "description_width": "",
            "_view_module": "@jupyter-widgets/base",
            "_model_module_version": "1.5.0",
            "_view_count": null,
            "_view_module_version": "1.2.0",
            "_model_module": "@jupyter-widgets/controls"
          }
        },
        "3b74b2b2e01340019306afee54cbe97f": {
          "model_module": "@jupyter-widgets/base",
          "model_name": "LayoutModel",
          "model_module_version": "1.2.0",
          "state": {
            "_view_name": "LayoutView",
            "grid_template_rows": null,
            "right": null,
            "justify_content": null,
            "_view_module": "@jupyter-widgets/base",
            "overflow": null,
            "_model_module_version": "1.2.0",
            "_view_count": null,
            "flex_flow": null,
            "width": null,
            "min_width": null,
            "border": null,
            "align_items": null,
            "bottom": null,
            "_model_module": "@jupyter-widgets/base",
            "top": null,
            "grid_column": null,
            "overflow_y": null,
            "overflow_x": null,
            "grid_auto_flow": null,
            "grid_area": null,
            "grid_template_columns": null,
            "flex": null,
            "_model_name": "LayoutModel",
            "justify_items": null,
            "grid_row": null,
            "max_height": null,
            "align_content": null,
            "visibility": null,
            "align_self": null,
            "height": null,
            "min_height": null,
            "padding": null,
            "grid_auto_rows": null,
            "grid_gap": null,
            "max_width": null,
            "order": null,
            "_view_module_version": "1.2.0",
            "grid_template_areas": null,
            "object_position": null,
            "object_fit": null,
            "grid_auto_columns": null,
            "margin": null,
            "display": null,
            "left": null
          }
        },
        "3cf2216017b54a9fb85e322019b4e828": {
          "model_module": "@jupyter-widgets/controls",
          "model_name": "HBoxModel",
          "model_module_version": "1.5.0",
          "state": {
            "_view_name": "HBoxView",
            "_dom_classes": [],
            "_model_name": "HBoxModel",
            "_view_module": "@jupyter-widgets/controls",
            "_model_module_version": "1.5.0",
            "_view_count": null,
            "_view_module_version": "1.5.0",
            "box_style": "",
            "layout": "IPY_MODEL_d9b8025680b54fcb9874f3aafb9d5aa8",
            "_model_module": "@jupyter-widgets/controls",
            "children": [
              "IPY_MODEL_a58ef562cb5246b19ff1fe8421ba1bd1",
              "IPY_MODEL_82b16891a0be40179b7b6dcbf8c46b75",
              "IPY_MODEL_f38e7616deaa43a3a1b396ced4172fb1"
            ]
          }
        },
        "d9b8025680b54fcb9874f3aafb9d5aa8": {
          "model_module": "@jupyter-widgets/base",
          "model_name": "LayoutModel",
          "model_module_version": "1.2.0",
          "state": {
            "_view_name": "LayoutView",
            "grid_template_rows": null,
            "right": null,
            "justify_content": null,
            "_view_module": "@jupyter-widgets/base",
            "overflow": null,
            "_model_module_version": "1.2.0",
            "_view_count": null,
            "flex_flow": null,
            "width": null,
            "min_width": null,
            "border": null,
            "align_items": null,
            "bottom": null,
            "_model_module": "@jupyter-widgets/base",
            "top": null,
            "grid_column": null,
            "overflow_y": null,
            "overflow_x": null,
            "grid_auto_flow": null,
            "grid_area": null,
            "grid_template_columns": null,
            "flex": null,
            "_model_name": "LayoutModel",
            "justify_items": null,
            "grid_row": null,
            "max_height": null,
            "align_content": null,
            "visibility": null,
            "align_self": null,
            "height": null,
            "min_height": null,
            "padding": null,
            "grid_auto_rows": null,
            "grid_gap": null,
            "max_width": null,
            "order": null,
            "_view_module_version": "1.2.0",
            "grid_template_areas": null,
            "object_position": null,
            "object_fit": null,
            "grid_auto_columns": null,
            "margin": null,
            "display": null,
            "left": null
          }
        },
        "a58ef562cb5246b19ff1fe8421ba1bd1": {
          "model_module": "@jupyter-widgets/controls",
          "model_name": "HTMLModel",
          "model_module_version": "1.5.0",
          "state": {
            "_view_name": "HTMLView",
            "style": "IPY_MODEL_08b83b1dc5574199b24babf9f9af55c5",
            "_dom_classes": [],
            "description": "",
            "_model_name": "HTMLModel",
            "placeholder": "​",
            "_view_module": "@jupyter-widgets/controls",
            "_model_module_version": "1.5.0",
            "value": "100%",
            "_view_count": null,
            "_view_module_version": "1.5.0",
            "description_tooltip": null,
            "_model_module": "@jupyter-widgets/controls",
            "layout": "IPY_MODEL_7c9a7d124b364e4cabebaa34901fd395"
          }
        },
        "82b16891a0be40179b7b6dcbf8c46b75": {
          "model_module": "@jupyter-widgets/controls",
          "model_name": "FloatProgressModel",
          "model_module_version": "1.5.0",
          "state": {
            "_view_name": "ProgressView",
            "style": "IPY_MODEL_e0efbf5b57db41c5a642d99c7a91c03f",
            "_dom_classes": [],
            "description": "",
            "_model_name": "FloatProgressModel",
            "bar_style": "success",
            "max": 32,
            "_view_module": "@jupyter-widgets/controls",
            "_model_module_version": "1.5.0",
            "value": 32,
            "_view_count": null,
            "_view_module_version": "1.5.0",
            "orientation": "horizontal",
            "min": 0,
            "description_tooltip": null,
            "_model_module": "@jupyter-widgets/controls",
            "layout": "IPY_MODEL_c8961344a1744f3b9029c3e1e5a5ec81"
          }
        },
        "f38e7616deaa43a3a1b396ced4172fb1": {
          "model_module": "@jupyter-widgets/controls",
          "model_name": "HTMLModel",
          "model_module_version": "1.5.0",
          "state": {
            "_view_name": "HTMLView",
            "style": "IPY_MODEL_9a0ebf7d45bc461c935822988f20dd7e",
            "_dom_classes": [],
            "description": "",
            "_model_name": "HTMLModel",
            "placeholder": "​",
            "_view_module": "@jupyter-widgets/controls",
            "_model_module_version": "1.5.0",
            "value": " 32/32 [00:00&lt;00:00, 83.73it/s]",
            "_view_count": null,
            "_view_module_version": "1.5.0",
            "description_tooltip": null,
            "_model_module": "@jupyter-widgets/controls",
            "layout": "IPY_MODEL_72c301b917204be4be01e67409e86d62"
          }
        },
        "08b83b1dc5574199b24babf9f9af55c5": {
          "model_module": "@jupyter-widgets/controls",
          "model_name": "DescriptionStyleModel",
          "model_module_version": "1.5.0",
          "state": {
            "_view_name": "StyleView",
            "_model_name": "DescriptionStyleModel",
            "description_width": "",
            "_view_module": "@jupyter-widgets/base",
            "_model_module_version": "1.5.0",
            "_view_count": null,
            "_view_module_version": "1.2.0",
            "_model_module": "@jupyter-widgets/controls"
          }
        },
        "7c9a7d124b364e4cabebaa34901fd395": {
          "model_module": "@jupyter-widgets/base",
          "model_name": "LayoutModel",
          "model_module_version": "1.2.0",
          "state": {
            "_view_name": "LayoutView",
            "grid_template_rows": null,
            "right": null,
            "justify_content": null,
            "_view_module": "@jupyter-widgets/base",
            "overflow": null,
            "_model_module_version": "1.2.0",
            "_view_count": null,
            "flex_flow": null,
            "width": null,
            "min_width": null,
            "border": null,
            "align_items": null,
            "bottom": null,
            "_model_module": "@jupyter-widgets/base",
            "top": null,
            "grid_column": null,
            "overflow_y": null,
            "overflow_x": null,
            "grid_auto_flow": null,
            "grid_area": null,
            "grid_template_columns": null,
            "flex": null,
            "_model_name": "LayoutModel",
            "justify_items": null,
            "grid_row": null,
            "max_height": null,
            "align_content": null,
            "visibility": null,
            "align_self": null,
            "height": null,
            "min_height": null,
            "padding": null,
            "grid_auto_rows": null,
            "grid_gap": null,
            "max_width": null,
            "order": null,
            "_view_module_version": "1.2.0",
            "grid_template_areas": null,
            "object_position": null,
            "object_fit": null,
            "grid_auto_columns": null,
            "margin": null,
            "display": null,
            "left": null
          }
        },
        "e0efbf5b57db41c5a642d99c7a91c03f": {
          "model_module": "@jupyter-widgets/controls",
          "model_name": "ProgressStyleModel",
          "model_module_version": "1.5.0",
          "state": {
            "_view_name": "StyleView",
            "_model_name": "ProgressStyleModel",
            "description_width": "",
            "_view_module": "@jupyter-widgets/base",
            "_model_module_version": "1.5.0",
            "_view_count": null,
            "_view_module_version": "1.2.0",
            "bar_color": null,
            "_model_module": "@jupyter-widgets/controls"
          }
        },
        "c8961344a1744f3b9029c3e1e5a5ec81": {
          "model_module": "@jupyter-widgets/base",
          "model_name": "LayoutModel",
          "model_module_version": "1.2.0",
          "state": {
            "_view_name": "LayoutView",
            "grid_template_rows": null,
            "right": null,
            "justify_content": null,
            "_view_module": "@jupyter-widgets/base",
            "overflow": null,
            "_model_module_version": "1.2.0",
            "_view_count": null,
            "flex_flow": null,
            "width": null,
            "min_width": null,
            "border": null,
            "align_items": null,
            "bottom": null,
            "_model_module": "@jupyter-widgets/base",
            "top": null,
            "grid_column": null,
            "overflow_y": null,
            "overflow_x": null,
            "grid_auto_flow": null,
            "grid_area": null,
            "grid_template_columns": null,
            "flex": null,
            "_model_name": "LayoutModel",
            "justify_items": null,
            "grid_row": null,
            "max_height": null,
            "align_content": null,
            "visibility": null,
            "align_self": null,
            "height": null,
            "min_height": null,
            "padding": null,
            "grid_auto_rows": null,
            "grid_gap": null,
            "max_width": null,
            "order": null,
            "_view_module_version": "1.2.0",
            "grid_template_areas": null,
            "object_position": null,
            "object_fit": null,
            "grid_auto_columns": null,
            "margin": null,
            "display": null,
            "left": null
          }
        },
        "9a0ebf7d45bc461c935822988f20dd7e": {
          "model_module": "@jupyter-widgets/controls",
          "model_name": "DescriptionStyleModel",
          "model_module_version": "1.5.0",
          "state": {
            "_view_name": "StyleView",
            "_model_name": "DescriptionStyleModel",
            "description_width": "",
            "_view_module": "@jupyter-widgets/base",
            "_model_module_version": "1.5.0",
            "_view_count": null,
            "_view_module_version": "1.2.0",
            "_model_module": "@jupyter-widgets/controls"
          }
        },
        "72c301b917204be4be01e67409e86d62": {
          "model_module": "@jupyter-widgets/base",
          "model_name": "LayoutModel",
          "model_module_version": "1.2.0",
          "state": {
            "_view_name": "LayoutView",
            "grid_template_rows": null,
            "right": null,
            "justify_content": null,
            "_view_module": "@jupyter-widgets/base",
            "overflow": null,
            "_model_module_version": "1.2.0",
            "_view_count": null,
            "flex_flow": null,
            "width": null,
            "min_width": null,
            "border": null,
            "align_items": null,
            "bottom": null,
            "_model_module": "@jupyter-widgets/base",
            "top": null,
            "grid_column": null,
            "overflow_y": null,
            "overflow_x": null,
            "grid_auto_flow": null,
            "grid_area": null,
            "grid_template_columns": null,
            "flex": null,
            "_model_name": "LayoutModel",
            "justify_items": null,
            "grid_row": null,
            "max_height": null,
            "align_content": null,
            "visibility": null,
            "align_self": null,
            "height": null,
            "min_height": null,
            "padding": null,
            "grid_auto_rows": null,
            "grid_gap": null,
            "max_width": null,
            "order": null,
            "_view_module_version": "1.2.0",
            "grid_template_areas": null,
            "object_position": null,
            "object_fit": null,
            "grid_auto_columns": null,
            "margin": null,
            "display": null,
            "left": null
          }
        },
        "631d6b9faff143438d4a925ecae84c9d": {
          "model_module": "@jupyter-widgets/controls",
          "model_name": "HBoxModel",
          "model_module_version": "1.5.0",
          "state": {
            "_view_name": "HBoxView",
            "_dom_classes": [],
            "_model_name": "HBoxModel",
            "_view_module": "@jupyter-widgets/controls",
            "_model_module_version": "1.5.0",
            "_view_count": null,
            "_view_module_version": "1.5.0",
            "box_style": "",
            "layout": "IPY_MODEL_041cf18dd71d49d2a68c34e4e65358fc",
            "_model_module": "@jupyter-widgets/controls",
            "children": [
              "IPY_MODEL_9eaa61c22cd245d6b8b03a6cddbf0d02",
              "IPY_MODEL_e52fc032e3c74ca08a206d3b948c2362",
              "IPY_MODEL_f0feaf69d34645cc8dee47dee3899eb4"
            ]
          }
        },
        "041cf18dd71d49d2a68c34e4e65358fc": {
          "model_module": "@jupyter-widgets/base",
          "model_name": "LayoutModel",
          "model_module_version": "1.2.0",
          "state": {
            "_view_name": "LayoutView",
            "grid_template_rows": null,
            "right": null,
            "justify_content": null,
            "_view_module": "@jupyter-widgets/base",
            "overflow": null,
            "_model_module_version": "1.2.0",
            "_view_count": null,
            "flex_flow": null,
            "width": null,
            "min_width": null,
            "border": null,
            "align_items": null,
            "bottom": null,
            "_model_module": "@jupyter-widgets/base",
            "top": null,
            "grid_column": null,
            "overflow_y": null,
            "overflow_x": null,
            "grid_auto_flow": null,
            "grid_area": null,
            "grid_template_columns": null,
            "flex": null,
            "_model_name": "LayoutModel",
            "justify_items": null,
            "grid_row": null,
            "max_height": null,
            "align_content": null,
            "visibility": null,
            "align_self": null,
            "height": null,
            "min_height": null,
            "padding": null,
            "grid_auto_rows": null,
            "grid_gap": null,
            "max_width": null,
            "order": null,
            "_view_module_version": "1.2.0",
            "grid_template_areas": null,
            "object_position": null,
            "object_fit": null,
            "grid_auto_columns": null,
            "margin": null,
            "display": null,
            "left": null
          }
        },
        "9eaa61c22cd245d6b8b03a6cddbf0d02": {
          "model_module": "@jupyter-widgets/controls",
          "model_name": "HTMLModel",
          "model_module_version": "1.5.0",
          "state": {
            "_view_name": "HTMLView",
            "style": "IPY_MODEL_5e9c7066f68e4ac1aab8b04dd9f9335d",
            "_dom_classes": [],
            "description": "",
            "_model_name": "HTMLModel",
            "placeholder": "​",
            "_view_module": "@jupyter-widgets/controls",
            "_model_module_version": "1.5.0",
            "value": "100%",
            "_view_count": null,
            "_view_module_version": "1.5.0",
            "description_tooltip": null,
            "_model_module": "@jupyter-widgets/controls",
            "layout": "IPY_MODEL_519b2b4cae6b4f18bdbca2f844874126"
          }
        },
        "e52fc032e3c74ca08a206d3b948c2362": {
          "model_module": "@jupyter-widgets/controls",
          "model_name": "FloatProgressModel",
          "model_module_version": "1.5.0",
          "state": {
            "_view_name": "ProgressView",
            "style": "IPY_MODEL_f3cec091964b4c68b09e0f8667a9bf49",
            "_dom_classes": [],
            "description": "",
            "_model_name": "FloatProgressModel",
            "bar_style": "success",
            "max": 113,
            "_view_module": "@jupyter-widgets/controls",
            "_model_module_version": "1.5.0",
            "value": 113,
            "_view_count": null,
            "_view_module_version": "1.5.0",
            "orientation": "horizontal",
            "min": 0,
            "description_tooltip": null,
            "_model_module": "@jupyter-widgets/controls",
            "layout": "IPY_MODEL_34802633207e46d4a80b53f28e109656"
          }
        },
        "f0feaf69d34645cc8dee47dee3899eb4": {
          "model_module": "@jupyter-widgets/controls",
          "model_name": "HTMLModel",
          "model_module_version": "1.5.0",
          "state": {
            "_view_name": "HTMLView",
            "style": "IPY_MODEL_5e90e229da5f4f8aaa9f8c5398b4bc19",
            "_dom_classes": [],
            "description": "",
            "_model_name": "HTMLModel",
            "placeholder": "​",
            "_view_module": "@jupyter-widgets/controls",
            "_model_module_version": "1.5.0",
            "value": " 113/113 [00:08&lt;00:00, 12.27it/s]",
            "_view_count": null,
            "_view_module_version": "1.5.0",
            "description_tooltip": null,
            "_model_module": "@jupyter-widgets/controls",
            "layout": "IPY_MODEL_6d8f80f5a78f41988f146937e1eb1815"
          }
        },
        "5e9c7066f68e4ac1aab8b04dd9f9335d": {
          "model_module": "@jupyter-widgets/controls",
          "model_name": "DescriptionStyleModel",
          "model_module_version": "1.5.0",
          "state": {
            "_view_name": "StyleView",
            "_model_name": "DescriptionStyleModel",
            "description_width": "",
            "_view_module": "@jupyter-widgets/base",
            "_model_module_version": "1.5.0",
            "_view_count": null,
            "_view_module_version": "1.2.0",
            "_model_module": "@jupyter-widgets/controls"
          }
        },
        "519b2b4cae6b4f18bdbca2f844874126": {
          "model_module": "@jupyter-widgets/base",
          "model_name": "LayoutModel",
          "model_module_version": "1.2.0",
          "state": {
            "_view_name": "LayoutView",
            "grid_template_rows": null,
            "right": null,
            "justify_content": null,
            "_view_module": "@jupyter-widgets/base",
            "overflow": null,
            "_model_module_version": "1.2.0",
            "_view_count": null,
            "flex_flow": null,
            "width": null,
            "min_width": null,
            "border": null,
            "align_items": null,
            "bottom": null,
            "_model_module": "@jupyter-widgets/base",
            "top": null,
            "grid_column": null,
            "overflow_y": null,
            "overflow_x": null,
            "grid_auto_flow": null,
            "grid_area": null,
            "grid_template_columns": null,
            "flex": null,
            "_model_name": "LayoutModel",
            "justify_items": null,
            "grid_row": null,
            "max_height": null,
            "align_content": null,
            "visibility": null,
            "align_self": null,
            "height": null,
            "min_height": null,
            "padding": null,
            "grid_auto_rows": null,
            "grid_gap": null,
            "max_width": null,
            "order": null,
            "_view_module_version": "1.2.0",
            "grid_template_areas": null,
            "object_position": null,
            "object_fit": null,
            "grid_auto_columns": null,
            "margin": null,
            "display": null,
            "left": null
          }
        },
        "f3cec091964b4c68b09e0f8667a9bf49": {
          "model_module": "@jupyter-widgets/controls",
          "model_name": "ProgressStyleModel",
          "model_module_version": "1.5.0",
          "state": {
            "_view_name": "StyleView",
            "_model_name": "ProgressStyleModel",
            "description_width": "",
            "_view_module": "@jupyter-widgets/base",
            "_model_module_version": "1.5.0",
            "_view_count": null,
            "_view_module_version": "1.2.0",
            "bar_color": null,
            "_model_module": "@jupyter-widgets/controls"
          }
        },
        "34802633207e46d4a80b53f28e109656": {
          "model_module": "@jupyter-widgets/base",
          "model_name": "LayoutModel",
          "model_module_version": "1.2.0",
          "state": {
            "_view_name": "LayoutView",
            "grid_template_rows": null,
            "right": null,
            "justify_content": null,
            "_view_module": "@jupyter-widgets/base",
            "overflow": null,
            "_model_module_version": "1.2.0",
            "_view_count": null,
            "flex_flow": null,
            "width": null,
            "min_width": null,
            "border": null,
            "align_items": null,
            "bottom": null,
            "_model_module": "@jupyter-widgets/base",
            "top": null,
            "grid_column": null,
            "overflow_y": null,
            "overflow_x": null,
            "grid_auto_flow": null,
            "grid_area": null,
            "grid_template_columns": null,
            "flex": null,
            "_model_name": "LayoutModel",
            "justify_items": null,
            "grid_row": null,
            "max_height": null,
            "align_content": null,
            "visibility": null,
            "align_self": null,
            "height": null,
            "min_height": null,
            "padding": null,
            "grid_auto_rows": null,
            "grid_gap": null,
            "max_width": null,
            "order": null,
            "_view_module_version": "1.2.0",
            "grid_template_areas": null,
            "object_position": null,
            "object_fit": null,
            "grid_auto_columns": null,
            "margin": null,
            "display": null,
            "left": null
          }
        },
        "5e90e229da5f4f8aaa9f8c5398b4bc19": {
          "model_module": "@jupyter-widgets/controls",
          "model_name": "DescriptionStyleModel",
          "model_module_version": "1.5.0",
          "state": {
            "_view_name": "StyleView",
            "_model_name": "DescriptionStyleModel",
            "description_width": "",
            "_view_module": "@jupyter-widgets/base",
            "_model_module_version": "1.5.0",
            "_view_count": null,
            "_view_module_version": "1.2.0",
            "_model_module": "@jupyter-widgets/controls"
          }
        },
        "6d8f80f5a78f41988f146937e1eb1815": {
          "model_module": "@jupyter-widgets/base",
          "model_name": "LayoutModel",
          "model_module_version": "1.2.0",
          "state": {
            "_view_name": "LayoutView",
            "grid_template_rows": null,
            "right": null,
            "justify_content": null,
            "_view_module": "@jupyter-widgets/base",
            "overflow": null,
            "_model_module_version": "1.2.0",
            "_view_count": null,
            "flex_flow": null,
            "width": null,
            "min_width": null,
            "border": null,
            "align_items": null,
            "bottom": null,
            "_model_module": "@jupyter-widgets/base",
            "top": null,
            "grid_column": null,
            "overflow_y": null,
            "overflow_x": null,
            "grid_auto_flow": null,
            "grid_area": null,
            "grid_template_columns": null,
            "flex": null,
            "_model_name": "LayoutModel",
            "justify_items": null,
            "grid_row": null,
            "max_height": null,
            "align_content": null,
            "visibility": null,
            "align_self": null,
            "height": null,
            "min_height": null,
            "padding": null,
            "grid_auto_rows": null,
            "grid_gap": null,
            "max_width": null,
            "order": null,
            "_view_module_version": "1.2.0",
            "grid_template_areas": null,
            "object_position": null,
            "object_fit": null,
            "grid_auto_columns": null,
            "margin": null,
            "display": null,
            "left": null
          }
        }
      }
    }
  },
  "cells": [
    {
      "cell_type": "markdown",
      "metadata": {
        "id": "view-in-github",
        "colab_type": "text"
      },
      "source": [
        "<a href=\"https://colab.research.google.com/github/nickwan/2021-nfl-qb-predict/blob/main/2021_nfl_predict_qb_tds.ipynb\" target=\"_parent\"><img src=\"https://colab.research.google.com/assets/colab-badge.svg\" alt=\"Open In Colab\"/></a>"
      ]
    },
    {
      "cell_type": "code",
      "metadata": {
        "colab": {
          "base_uri": "https://localhost:8080/"
        },
        "id": "_H_ZgM2ByWVu",
        "outputId": "68e5d645-9ef1-420a-b54b-b3a6399aeb1a"
      },
      "source": [
        "!apt install subversion --quiet  \n",
        "!svn export https://github.com/guga31bb/nflfastR-data/trunk/data \"/content/drive/My Drive/nflfastR-data/data\" --force --quiet"
      ],
      "execution_count": null,
      "outputs": [
        {
          "output_type": "stream",
          "text": [
            "Reading package lists...\n",
            "Building dependency tree...\n",
            "Reading state information...\n",
            "The following package was automatically installed and is no longer required:\n",
            "  libnvidia-common-460\n",
            "Use 'apt autoremove' to remove it.\n",
            "The following additional packages will be installed:\n",
            "  libapr1 libaprutil1 libserf-1-1 libsvn1\n",
            "Suggested packages:\n",
            "  db5.3-util libapache2-mod-svn subversion-tools\n",
            "The following NEW packages will be installed:\n",
            "  libapr1 libaprutil1 libserf-1-1 libsvn1 subversion\n",
            "0 upgraded, 5 newly installed, 0 to remove and 40 not upgraded.\n",
            "Need to get 2,237 kB of archives.\n",
            "After this operation, 9,910 kB of additional disk space will be used.\n",
            "Get:1 http://archive.ubuntu.com/ubuntu bionic/main amd64 libapr1 amd64 1.6.3-2 [90.9 kB]\n",
            "Get:2 http://archive.ubuntu.com/ubuntu bionic/main amd64 libaprutil1 amd64 1.6.1-2 [84.4 kB]\n",
            "Get:3 http://archive.ubuntu.com/ubuntu bionic/universe amd64 libserf-1-1 amd64 1.3.9-6 [44.4 kB]\n",
            "Get:4 http://archive.ubuntu.com/ubuntu bionic/universe amd64 libsvn1 amd64 1.9.7-4ubuntu1 [1,183 kB]\n",
            "Get:5 http://archive.ubuntu.com/ubuntu bionic/universe amd64 subversion amd64 1.9.7-4ubuntu1 [834 kB]\n",
            "Fetched 2,237 kB in 1s (2,255 kB/s)\n",
            "Selecting previously unselected package libapr1:amd64.\n",
            "(Reading database ... 148486 files and directories currently installed.)\n",
            "Preparing to unpack .../libapr1_1.6.3-2_amd64.deb ...\n",
            "Unpacking libapr1:amd64 (1.6.3-2) ...\n",
            "Selecting previously unselected package libaprutil1:amd64.\n",
            "Preparing to unpack .../libaprutil1_1.6.1-2_amd64.deb ...\n",
            "Unpacking libaprutil1:amd64 (1.6.1-2) ...\n",
            "Selecting previously unselected package libserf-1-1:amd64.\n",
            "Preparing to unpack .../libserf-1-1_1.3.9-6_amd64.deb ...\n",
            "Unpacking libserf-1-1:amd64 (1.3.9-6) ...\n",
            "Selecting previously unselected package libsvn1:amd64.\n",
            "Preparing to unpack .../libsvn1_1.9.7-4ubuntu1_amd64.deb ...\n",
            "Unpacking libsvn1:amd64 (1.9.7-4ubuntu1) ...\n",
            "Selecting previously unselected package subversion.\n",
            "Preparing to unpack .../subversion_1.9.7-4ubuntu1_amd64.deb ...\n",
            "Unpacking subversion (1.9.7-4ubuntu1) ...\n",
            "Setting up libapr1:amd64 (1.6.3-2) ...\n",
            "Setting up libaprutil1:amd64 (1.6.1-2) ...\n",
            "Setting up libserf-1-1:amd64 (1.3.9-6) ...\n",
            "Setting up libsvn1:amd64 (1.9.7-4ubuntu1) ...\n",
            "Setting up subversion (1.9.7-4ubuntu1) ...\n",
            "Processing triggers for libc-bin (2.27-3ubuntu1.2) ...\n",
            "/sbin/ldconfig.real: /usr/local/lib/python3.7/dist-packages/ideep4py/lib/libmkldnn.so.0 is not a symbolic link\n",
            "\n",
            "Processing triggers for man-db (2.8.3-2ubuntu0.1) ...\n"
          ],
          "name": "stdout"
        }
      ]
    },
    {
      "cell_type": "code",
      "metadata": {
        "id": "MnroImbAfLSn"
      },
      "source": [
        "import os \n",
        "import pandas as pd \n",
        "import numpy as np \n",
        "import seaborn as sns \n",
        "import matplotlib.pyplot as plt \n",
        "from tqdm.notebook import tqdm\n",
        "from sklearn.linear_model import LogisticRegression, LinearRegression\n",
        "from sklearn.metrics import log_loss, accuracy_score, mean_squared_error\n",
        "from sklearn.model_selection import GroupKFold\n",
        "import itertools\n",
        "import warnings"
      ],
      "execution_count": 18,
      "outputs": []
    },
    {
      "cell_type": "code",
      "metadata": {
        "id": "KjXKS7Rmzs9-"
      },
      "source": [
        "project_dir = 'drive/My Drive/nflfastR-data'"
      ],
      "execution_count": 19,
      "outputs": []
    },
    {
      "cell_type": "code",
      "metadata": {
        "colab": {
          "base_uri": "https://localhost:8080/",
          "height": 842,
          "referenced_widgets": [
            "88a9d85a41034a79a73aa7189aaf918c",
            "7703c071067e48058bcd57955219068f",
            "7e81804d5a274d9f94c0e4c8703135c0",
            "d3cc30dc9f4a49009cc2996b3a471f07",
            "2fc5d97120124c4d884c46f12a9451bf",
            "8c926d44c90c48feb17455a24d9bac9f",
            "83e56290eef448a08666c89101a4f9a1",
            "2e67d5d3612c4f5e92e843ed47b794dc",
            "5d48b545c7f64d8887ae60fec68032dc",
            "fdc0033c709242d990bea27c152d919e",
            "5e83c0f829ae412888e431789b7f1aec"
          ]
        },
        "id": "CA8Qf67a0eiE",
        "outputId": "4d3574ae-c0cc-4a21-ce86-e8d92c5d531c"
      },
      "source": [
        "fns = [f\"{project_dir}/data/{x}\" for x in os.listdir(f\"{project_dir}/data\") if (\".csv\" in x) and (\"play_by_play\" in x)]\n",
        "df = pd.DataFrame()\n",
        "for fn in tqdm(fns):\n",
        "  try:\n",
        "    _df = pd.read_csv(fn, compression='gzip')\n",
        "    df = df.append(_df, ignore_index=True)\n",
        "  except:\n",
        "    print('lol get rekt')\n",
        "    continue\n",
        "\n",
        "df.shape  "
      ],
      "execution_count": 20,
      "outputs": [
        {
          "output_type": "display_data",
          "data": {
            "application/vnd.jupyter.widget-view+json": {
              "model_id": "88a9d85a41034a79a73aa7189aaf918c",
              "version_minor": 0,
              "version_major": 2
            },
            "text/plain": [
              "  0%|          | 0/23 [00:00<?, ?it/s]"
            ]
          },
          "metadata": {}
        },
        {
          "output_type": "stream",
          "text": [
            "lol get rekt\n"
          ],
          "name": "stdout"
        },
        {
          "output_type": "stream",
          "text": [
            "/usr/local/lib/python3.7/dist-packages/IPython/core/interactiveshell.py:2718: DtypeWarning: Columns (37,45,179,180,182,183,189,190,193,194,197,198,203,204,205,206,218,219,220,248,249,253,254,255,260,262,263,283,284) have mixed types.Specify dtype option on import or set low_memory=False.\n",
            "  interactivity=interactivity, compiler=compiler, result=result)\n",
            "/usr/local/lib/python3.7/dist-packages/IPython/core/interactiveshell.py:2718: DtypeWarning: Columns (37,179,180,182,183,189,190,193,194,197,198,203,204,205,206,209,210,213,214,218,219,220,248,249,253,254,255,260,262,263,266,267,268,269,283,284,301) have mixed types.Specify dtype option on import or set low_memory=False.\n",
            "  interactivity=interactivity, compiler=compiler, result=result)\n",
            "/usr/local/lib/python3.7/dist-packages/IPython/core/interactiveshell.py:2718: DtypeWarning: Columns (36,37,179,180,189,190,197,198,203,204,205,206,213,214,218,219,220,222,224,226,248,249,253,254,255,260,262,263,266,267,268,269,283,284) have mixed types.Specify dtype option on import or set low_memory=False.\n",
            "  interactivity=interactivity, compiler=compiler, result=result)\n",
            "/usr/local/lib/python3.7/dist-packages/IPython/core/interactiveshell.py:2718: DtypeWarning: Columns (37,45,179,180,182,183,189,190,193,194,197,198,203,204,205,206,209,210,218,219,220,248,249,253,254,255,260,262,263,283,284,301) have mixed types.Specify dtype option on import or set low_memory=False.\n",
            "  interactivity=interactivity, compiler=compiler, result=result)\n",
            "/usr/local/lib/python3.7/dist-packages/IPython/core/interactiveshell.py:2718: DtypeWarning: Columns (37,45,179,180,189,190,193,194,197,198,203,204,205,206,218,219,220,248,249,253,254,255,260,262,263,283,284,301) have mixed types.Specify dtype option on import or set low_memory=False.\n",
            "  interactivity=interactivity, compiler=compiler, result=result)\n",
            "/usr/local/lib/python3.7/dist-packages/IPython/core/interactiveshell.py:2718: DtypeWarning: Columns (37,45,179,180,189,190,193,194,197,198,203,204,205,206,209,210,213,214,218,219,220,248,249,253,254,255,260,262,263,266,267,268,269,283,284,301) have mixed types.Specify dtype option on import or set low_memory=False.\n",
            "  interactivity=interactivity, compiler=compiler, result=result)\n",
            "/usr/local/lib/python3.7/dist-packages/IPython/core/interactiveshell.py:2718: DtypeWarning: Columns (37,45,179,180,182,183,189,190,193,194,197,198,203,204,205,206,207,208,211,212,213,214,218,219,220,248,249,253,254,255,260,262,263,266,267,268,269,283,284,294,295,301) have mixed types.Specify dtype option on import or set low_memory=False.\n",
            "  interactivity=interactivity, compiler=compiler, result=result)\n",
            "/usr/local/lib/python3.7/dist-packages/IPython/core/interactiveshell.py:2718: DtypeWarning: Columns (42,44,45,50,51,52,179,180,182,183,187,188,189,190,193,194,195,196,197,198,201,202,203,204,205,206,207,208,213,214,215,216,217,218,219,220,222,224,226,240,241,242,248,249,250,251,252,253,254,255,256,258,259,260,262,263,264,265,266,267,268,269,277,283,284,295,301) have mixed types.Specify dtype option on import or set low_memory=False.\n",
            "  interactivity=interactivity, compiler=compiler, result=result)\n",
            "/usr/local/lib/python3.7/dist-packages/IPython/core/interactiveshell.py:2718: DtypeWarning: Columns (45,179,180,182,183,189,190,193,194,197,198,203,204,205,206,207,208,218,219,220,248,249,253,254,255,260,262,263,283,284,294,295,301) have mixed types.Specify dtype option on import or set low_memory=False.\n",
            "  interactivity=interactivity, compiler=compiler, result=result)\n",
            "/usr/local/lib/python3.7/dist-packages/IPython/core/interactiveshell.py:2718: DtypeWarning: Columns (45,179,180,182,183,189,190,193,194,197,198,203,204,205,206,209,210,218,219,220,248,249,253,254,255,260,262,263,283,284,295,301) have mixed types.Specify dtype option on import or set low_memory=False.\n",
            "  interactivity=interactivity, compiler=compiler, result=result)\n",
            "/usr/local/lib/python3.7/dist-packages/IPython/core/interactiveshell.py:2718: DtypeWarning: Columns (45,179,180,189,190,193,194,197,198,203,204,205,206,213,214,218,219,220,222,224,226,248,249,253,254,255,260,262,263,266,267,268,269,283,284,295,301) have mixed types.Specify dtype option on import or set low_memory=False.\n",
            "  interactivity=interactivity, compiler=compiler, result=result)\n",
            "/usr/local/lib/python3.7/dist-packages/IPython/core/interactiveshell.py:2718: DtypeWarning: Columns (45,179,180,182,183,189,190,193,194,197,198,203,204,205,206,218,219,220,248,249,253,254,255,260,262,263,283,284,294,295,301) have mixed types.Specify dtype option on import or set low_memory=False.\n",
            "  interactivity=interactivity, compiler=compiler, result=result)\n",
            "/usr/local/lib/python3.7/dist-packages/IPython/core/interactiveshell.py:2718: DtypeWarning: Columns (45,179,180,182,183,189,190,193,194,197,198,203,204,205,206,209,210,213,214,218,219,220,253,254,255,260,262,263,283,284,294,295,301) have mixed types.Specify dtype option on import or set low_memory=False.\n",
            "  interactivity=interactivity, compiler=compiler, result=result)\n",
            "/usr/local/lib/python3.7/dist-packages/IPython/core/interactiveshell.py:2718: DtypeWarning: Columns (179,180,182,183,189,190,193,194,197,198,203,204,205,206,218,219,220,248,249,253,254,255,260,262,263,283,284,294,295,301) have mixed types.Specify dtype option on import or set low_memory=False.\n",
            "  interactivity=interactivity, compiler=compiler, result=result)\n",
            "/usr/local/lib/python3.7/dist-packages/IPython/core/interactiveshell.py:2718: DtypeWarning: Columns (45,179,180,182,183,193,194,197,198,203,204,205,206,209,210,218,219,220,253,254,255,260,262,263,283,284,294,295,301) have mixed types.Specify dtype option on import or set low_memory=False.\n",
            "  interactivity=interactivity, compiler=compiler, result=result)\n",
            "/usr/local/lib/python3.7/dist-packages/IPython/core/interactiveshell.py:2718: DtypeWarning: Columns (45,179,180,182,183,189,190,193,194,197,198,203,204,218,219,220,248,249,253,254,255,260,262,263,283,284,294,295,301) have mixed types.Specify dtype option on import or set low_memory=False.\n",
            "  interactivity=interactivity, compiler=compiler, result=result)\n",
            "/usr/local/lib/python3.7/dist-packages/IPython/core/interactiveshell.py:2718: DtypeWarning: Columns (45,179,180,182,183,189,190,193,194,197,198,203,204,205,206,218,219,220,233,234,235,236,237,238,248,249,253,254,255,260,262,263,283,284,301) have mixed types.Specify dtype option on import or set low_memory=False.\n",
            "  interactivity=interactivity, compiler=compiler, result=result)\n",
            "/usr/local/lib/python3.7/dist-packages/IPython/core/interactiveshell.py:2718: DtypeWarning: Columns (179,180,182,183,189,190,193,194,197,198,203,204,205,206,209,210,218,219,220,248,249,253,254,255,260,262,263,283,284,301) have mixed types.Specify dtype option on import or set low_memory=False.\n",
            "  interactivity=interactivity, compiler=compiler, result=result)\n",
            "/usr/local/lib/python3.7/dist-packages/IPython/core/interactiveshell.py:2718: DtypeWarning: Columns (179,180,182,183,189,190,193,194,197,198,203,204,205,206,213,214,218,219,220,253,254,255,260,262,263,266,267,268,269,283,284,301) have mixed types.Specify dtype option on import or set low_memory=False.\n",
            "  interactivity=interactivity, compiler=compiler, result=result)\n",
            "/usr/local/lib/python3.7/dist-packages/IPython/core/interactiveshell.py:2718: DtypeWarning: Columns (179,180,182,183,193,194,197,198,203,204,205,206,218,219,220,248,249,253,254,255,260,262,263,283,284,301) have mixed types.Specify dtype option on import or set low_memory=False.\n",
            "  interactivity=interactivity, compiler=compiler, result=result)\n",
            "/usr/local/lib/python3.7/dist-packages/IPython/core/interactiveshell.py:2718: DtypeWarning: Columns (179,180,182,183,189,190,193,194,197,198,203,204,205,206,209,210,218,219,220,233,234,235,236,237,238,253,254,255,260,262,263,283,284,301) have mixed types.Specify dtype option on import or set low_memory=False.\n",
            "  interactivity=interactivity, compiler=compiler, result=result)\n",
            "/usr/local/lib/python3.7/dist-packages/IPython/core/interactiveshell.py:2718: DtypeWarning: Columns (179,180,182,183,189,190,193,194,197,198,203,204,205,206,213,214,218,219,220,222,224,226,248,249,253,254,255,260,262,263,266,267,268,269,283,284,301) have mixed types.Specify dtype option on import or set low_memory=False.\n",
            "  interactivity=interactivity, compiler=compiler, result=result)\n"
          ],
          "name": "stderr"
        },
        {
          "output_type": "execute_result",
          "data": {
            "text/plain": [
              "(1047858, 372)"
            ]
          },
          "metadata": {},
          "execution_count": 20
        }
      ]
    },
    {
      "cell_type": "code",
      "metadata": {
        "colab": {
          "base_uri": "https://localhost:8080/"
        },
        "id": "eUjqlKo9BZxL",
        "outputId": "97c1647a-4633-4cf3-e119-755a5dd1447e"
      },
      "source": [
        "df.columns.values"
      ],
      "execution_count": 21,
      "outputs": [
        {
          "output_type": "execute_result",
          "data": {
            "text/plain": [
              "array(['play_id', 'game_id', 'old_game_id', 'home_team', 'away_team',\n",
              "       'season_type', 'week', 'posteam', 'posteam_type', 'defteam',\n",
              "       'side_of_field', 'yardline_100', 'game_date',\n",
              "       'quarter_seconds_remaining', 'half_seconds_remaining',\n",
              "       'game_seconds_remaining', 'game_half', 'quarter_end', 'drive',\n",
              "       'sp', 'qtr', 'down', 'goal_to_go', 'time', 'yrdln', 'ydstogo',\n",
              "       'ydsnet', 'desc', 'play_type', 'yards_gained', 'shotgun',\n",
              "       'no_huddle', 'qb_dropback', 'qb_kneel', 'qb_spike', 'qb_scramble',\n",
              "       'pass_length', 'pass_location', 'air_yards', 'yards_after_catch',\n",
              "       'run_location', 'run_gap', 'field_goal_result', 'kick_distance',\n",
              "       'extra_point_result', 'two_point_conv_result',\n",
              "       'home_timeouts_remaining', 'away_timeouts_remaining', 'timeout',\n",
              "       'timeout_team', 'td_team', 'td_player_name', 'td_player_id',\n",
              "       'posteam_timeouts_remaining', 'defteam_timeouts_remaining',\n",
              "       'total_home_score', 'total_away_score', 'posteam_score',\n",
              "       'defteam_score', 'score_differential', 'posteam_score_post',\n",
              "       'defteam_score_post', 'score_differential_post', 'no_score_prob',\n",
              "       'opp_fg_prob', 'opp_safety_prob', 'opp_td_prob', 'fg_prob',\n",
              "       'safety_prob', 'td_prob', 'extra_point_prob',\n",
              "       'two_point_conversion_prob', 'ep', 'epa', 'total_home_epa',\n",
              "       'total_away_epa', 'total_home_rush_epa', 'total_away_rush_epa',\n",
              "       'total_home_pass_epa', 'total_away_pass_epa', 'air_epa', 'yac_epa',\n",
              "       'comp_air_epa', 'comp_yac_epa', 'total_home_comp_air_epa',\n",
              "       'total_away_comp_air_epa', 'total_home_comp_yac_epa',\n",
              "       'total_away_comp_yac_epa', 'total_home_raw_air_epa',\n",
              "       'total_away_raw_air_epa', 'total_home_raw_yac_epa',\n",
              "       'total_away_raw_yac_epa', 'wp', 'def_wp', 'home_wp', 'away_wp',\n",
              "       'wpa', 'vegas_wpa', 'vegas_home_wpa', 'home_wp_post',\n",
              "       'away_wp_post', 'vegas_wp', 'vegas_home_wp', 'total_home_rush_wpa',\n",
              "       'total_away_rush_wpa', 'total_home_pass_wpa',\n",
              "       'total_away_pass_wpa', 'air_wpa', 'yac_wpa', 'comp_air_wpa',\n",
              "       'comp_yac_wpa', 'total_home_comp_air_wpa',\n",
              "       'total_away_comp_air_wpa', 'total_home_comp_yac_wpa',\n",
              "       'total_away_comp_yac_wpa', 'total_home_raw_air_wpa',\n",
              "       'total_away_raw_air_wpa', 'total_home_raw_yac_wpa',\n",
              "       'total_away_raw_yac_wpa', 'punt_blocked', 'first_down_rush',\n",
              "       'first_down_pass', 'first_down_penalty', 'third_down_converted',\n",
              "       'third_down_failed', 'fourth_down_converted', 'fourth_down_failed',\n",
              "       'incomplete_pass', 'touchback', 'interception',\n",
              "       'punt_inside_twenty', 'punt_in_endzone', 'punt_out_of_bounds',\n",
              "       'punt_downed', 'punt_fair_catch', 'kickoff_inside_twenty',\n",
              "       'kickoff_in_endzone', 'kickoff_out_of_bounds', 'kickoff_downed',\n",
              "       'kickoff_fair_catch', 'fumble_forced', 'fumble_not_forced',\n",
              "       'fumble_out_of_bounds', 'solo_tackle', 'safety', 'penalty',\n",
              "       'tackled_for_loss', 'fumble_lost', 'own_kickoff_recovery',\n",
              "       'own_kickoff_recovery_td', 'qb_hit', 'rush_attempt',\n",
              "       'pass_attempt', 'sack', 'touchdown', 'pass_touchdown',\n",
              "       'rush_touchdown', 'return_touchdown', 'extra_point_attempt',\n",
              "       'two_point_attempt', 'field_goal_attempt', 'kickoff_attempt',\n",
              "       'punt_attempt', 'fumble', 'complete_pass', 'assist_tackle',\n",
              "       'lateral_reception', 'lateral_rush', 'lateral_return',\n",
              "       'lateral_recovery', 'passer_player_id', 'passer_player_name',\n",
              "       'passing_yards', 'receiver_player_id', 'receiver_player_name',\n",
              "       'receiving_yards', 'rusher_player_id', 'rusher_player_name',\n",
              "       'rushing_yards', 'lateral_receiver_player_id',\n",
              "       'lateral_receiver_player_name', 'lateral_receiving_yards',\n",
              "       'lateral_rusher_player_id', 'lateral_rusher_player_name',\n",
              "       'lateral_rushing_yards', 'lateral_sack_player_id',\n",
              "       'lateral_sack_player_name', 'interception_player_id',\n",
              "       'interception_player_name', 'lateral_interception_player_id',\n",
              "       'lateral_interception_player_name', 'punt_returner_player_id',\n",
              "       'punt_returner_player_name', 'lateral_punt_returner_player_id',\n",
              "       'lateral_punt_returner_player_name',\n",
              "       'kickoff_returner_player_name', 'kickoff_returner_player_id',\n",
              "       'lateral_kickoff_returner_player_id',\n",
              "       'lateral_kickoff_returner_player_name', 'punter_player_id',\n",
              "       'punter_player_name', 'kicker_player_name', 'kicker_player_id',\n",
              "       'own_kickoff_recovery_player_id',\n",
              "       'own_kickoff_recovery_player_name', 'blocked_player_id',\n",
              "       'blocked_player_name', 'tackle_for_loss_1_player_id',\n",
              "       'tackle_for_loss_1_player_name', 'tackle_for_loss_2_player_id',\n",
              "       'tackle_for_loss_2_player_name', 'qb_hit_1_player_id',\n",
              "       'qb_hit_1_player_name', 'qb_hit_2_player_id',\n",
              "       'qb_hit_2_player_name', 'forced_fumble_player_1_team',\n",
              "       'forced_fumble_player_1_player_id',\n",
              "       'forced_fumble_player_1_player_name',\n",
              "       'forced_fumble_player_2_team', 'forced_fumble_player_2_player_id',\n",
              "       'forced_fumble_player_2_player_name', 'solo_tackle_1_team',\n",
              "       'solo_tackle_2_team', 'solo_tackle_1_player_id',\n",
              "       'solo_tackle_2_player_id', 'solo_tackle_1_player_name',\n",
              "       'solo_tackle_2_player_name', 'assist_tackle_1_player_id',\n",
              "       'assist_tackle_1_player_name', 'assist_tackle_1_team',\n",
              "       'assist_tackle_2_player_id', 'assist_tackle_2_player_name',\n",
              "       'assist_tackle_2_team', 'assist_tackle_3_player_id',\n",
              "       'assist_tackle_3_player_name', 'assist_tackle_3_team',\n",
              "       'assist_tackle_4_player_id', 'assist_tackle_4_player_name',\n",
              "       'assist_tackle_4_team', 'tackle_with_assist',\n",
              "       'tackle_with_assist_1_player_id',\n",
              "       'tackle_with_assist_1_player_name', 'tackle_with_assist_1_team',\n",
              "       'tackle_with_assist_2_player_id',\n",
              "       'tackle_with_assist_2_player_name', 'tackle_with_assist_2_team',\n",
              "       'pass_defense_1_player_id', 'pass_defense_1_player_name',\n",
              "       'pass_defense_2_player_id', 'pass_defense_2_player_name',\n",
              "       'fumbled_1_team', 'fumbled_1_player_id', 'fumbled_1_player_name',\n",
              "       'fumbled_2_player_id', 'fumbled_2_player_name', 'fumbled_2_team',\n",
              "       'fumble_recovery_1_team', 'fumble_recovery_1_yards',\n",
              "       'fumble_recovery_1_player_id', 'fumble_recovery_1_player_name',\n",
              "       'fumble_recovery_2_team', 'fumble_recovery_2_yards',\n",
              "       'fumble_recovery_2_player_id', 'fumble_recovery_2_player_name',\n",
              "       'sack_player_id', 'sack_player_name', 'half_sack_1_player_id',\n",
              "       'half_sack_1_player_name', 'half_sack_2_player_id',\n",
              "       'half_sack_2_player_name', 'return_team', 'return_yards',\n",
              "       'penalty_team', 'penalty_player_id', 'penalty_player_name',\n",
              "       'penalty_yards', 'replay_or_challenge',\n",
              "       'replay_or_challenge_result', 'penalty_type',\n",
              "       'defensive_two_point_attempt', 'defensive_two_point_conv',\n",
              "       'defensive_extra_point_attempt', 'defensive_extra_point_conv',\n",
              "       'safety_player_name', 'safety_player_id', 'season', 'cp', 'cpoe',\n",
              "       'series', 'series_success', 'series_result', 'order_sequence',\n",
              "       'start_time', 'time_of_day', 'stadium', 'weather', 'nfl_api_id',\n",
              "       'play_clock', 'play_deleted', 'play_type_nfl',\n",
              "       'special_teams_play', 'st_play_type', 'end_clock_time',\n",
              "       'end_yard_line', 'fixed_drive', 'fixed_drive_result',\n",
              "       'drive_real_start_time', 'drive_play_count',\n",
              "       'drive_time_of_possession', 'drive_first_downs', 'drive_inside20',\n",
              "       'drive_ended_with_score', 'drive_quarter_start',\n",
              "       'drive_quarter_end', 'drive_yards_penalized',\n",
              "       'drive_start_transition', 'drive_end_transition',\n",
              "       'drive_game_clock_start', 'drive_game_clock_end',\n",
              "       'drive_start_yard_line', 'drive_end_yard_line',\n",
              "       'drive_play_id_started', 'drive_play_id_ended', 'away_score',\n",
              "       'home_score', 'location', 'result', 'total', 'spread_line',\n",
              "       'total_line', 'div_game', 'roof', 'surface', 'temp', 'wind',\n",
              "       'home_coach', 'away_coach', 'stadium_id', 'game_stadium',\n",
              "       'aborted_play', 'success', 'passer', 'passer_jersey_number',\n",
              "       'rusher', 'rusher_jersey_number', 'receiver',\n",
              "       'receiver_jersey_number', 'pass', 'rush', 'first_down', 'special',\n",
              "       'play', 'passer_id', 'rusher_id', 'receiver_id', 'name',\n",
              "       'jersey_number', 'id', 'fantasy_player_name', 'fantasy_player_id',\n",
              "       'fantasy', 'fantasy_id', 'out_of_bounds', 'home_opening_kickoff',\n",
              "       'qb_epa', 'xyac_epa', 'xyac_mean_yardage', 'xyac_median_yardage',\n",
              "       'xyac_success', 'xyac_fd', 'xpass', 'pass_oe'], dtype=object)"
            ]
          },
          "metadata": {},
          "execution_count": 21
        }
      ]
    },
    {
      "cell_type": "code",
      "metadata": {
        "id": "qul9CQtkEwkU"
      },
      "source": [
        "df['is_home'] = df['posteam_type'].replace(['home', 'away', None], [1,0,0])\n",
        "cols = ['defteam']\n",
        "for col in cols:\n",
        "  df[f'{col}_code'] = df[col].astype('category').cat.codes"
      ],
      "execution_count": 22,
      "outputs": []
    },
    {
      "cell_type": "code",
      "metadata": {
        "id": "masSLnSaD0CH"
      },
      "source": [
        "feats = ['season', 'yardline_100', 'game_seconds_remaining', 'down', 'ydstogo', \n",
        "         'defteam_code', 'score_differential', 'is_home']\n",
        "target = 'pass_touchdown'\n",
        "\n",
        "df_not_20 = df.loc[(df['season']!=2020) & (df['pass_attempt']==1), feats+[target, 'passer_player_id', 'passer_player_name', 'game_id']]\n",
        "df_20 = df.loc[(df['season']==2020) & (df['pass_attempt']==1), feats+[target, 'passer_player_id', 'passer_player_name', 'game_id']]"
      ],
      "execution_count": 23,
      "outputs": []
    },
    {
      "cell_type": "code",
      "metadata": {
        "colab": {
          "base_uri": "https://localhost:8080/",
          "height": 657,
          "referenced_widgets": [
            "43a4d255fa15432e83abb3cd2e41f978",
            "d93592179a2f4e208e68c89e1faa6d08",
            "0cd24179ecdb4b03b961c78a377dbe77",
            "44ed06551781424c897363c216ab518b",
            "7cfc722c98b14c7f9c8de3d128969a12",
            "9bbc65871a784c8ba96e37ee496547d1",
            "eb1b76a4ab714015ae651f95011736ce",
            "402020b9b76a4c1480875ea9c62fbd15",
            "03ffde0302e64c1bba2d8e6800fda580",
            "a3cbb26f45314449a703a0cd342eb0ab",
            "3b74b2b2e01340019306afee54cbe97f"
          ]
        },
        "id": "sVj4s1DIHP7Q",
        "outputId": "e679ab79-33c4-4332-b295-1be60a494d28"
      },
      "source": [
        "folds = 3\n",
        "kf = GroupKFold(3)\n",
        "\n",
        "df_pred = pd.DataFrame()\n",
        "model_data = df_not_20.dropna(subset=feats+[target])\n",
        "for train_idx, test_idx in tqdm(kf.split(model_data, groups=model_data['game_id']), total=folds):\n",
        "  train_data = model_data.iloc[train_idx]\n",
        "  test_data = model_data.iloc[test_idx]\n",
        "  model = LogisticRegression()\n",
        "  model.fit(train_data.loc[:, feats], train_data[target])\n",
        "  test_data[f\"{target}_pred\"] = pd.DataFrame(model.predict_proba(test_data.loc[:, feats]), index=test_data.index)[1]\n",
        "  df_pred = df_pred.append(test_data, ignore_index=True)\n",
        "\n",
        "df_pred.shape  "
      ],
      "execution_count": 24,
      "outputs": [
        {
          "output_type": "display_data",
          "data": {
            "application/vnd.jupyter.widget-view+json": {
              "model_id": "43a4d255fa15432e83abb3cd2e41f978",
              "version_minor": 0,
              "version_major": 2
            },
            "text/plain": [
              "  0%|          | 0/3 [00:00<?, ?it/s]"
            ]
          },
          "metadata": {}
        },
        {
          "output_type": "stream",
          "text": [
            "/usr/local/lib/python3.7/dist-packages/sklearn/linear_model/_logistic.py:940: ConvergenceWarning: lbfgs failed to converge (status=1):\n",
            "STOP: TOTAL NO. of ITERATIONS REACHED LIMIT.\n",
            "\n",
            "Increase the number of iterations (max_iter) or scale the data as shown in:\n",
            "    https://scikit-learn.org/stable/modules/preprocessing.html\n",
            "Please also refer to the documentation for alternative solver options:\n",
            "    https://scikit-learn.org/stable/modules/linear_model.html#logistic-regression\n",
            "  extra_warning_msg=_LOGISTIC_SOLVER_CONVERGENCE_MSG)\n",
            "/usr/local/lib/python3.7/dist-packages/ipykernel_launcher.py:11: SettingWithCopyWarning: \n",
            "A value is trying to be set on a copy of a slice from a DataFrame.\n",
            "Try using .loc[row_indexer,col_indexer] = value instead\n",
            "\n",
            "See the caveats in the documentation: https://pandas.pydata.org/pandas-docs/stable/user_guide/indexing.html#returning-a-view-versus-a-copy\n",
            "  # This is added back by InteractiveShellApp.init_path()\n",
            "/usr/local/lib/python3.7/dist-packages/sklearn/linear_model/_logistic.py:940: ConvergenceWarning: lbfgs failed to converge (status=1):\n",
            "STOP: TOTAL NO. of ITERATIONS REACHED LIMIT.\n",
            "\n",
            "Increase the number of iterations (max_iter) or scale the data as shown in:\n",
            "    https://scikit-learn.org/stable/modules/preprocessing.html\n",
            "Please also refer to the documentation for alternative solver options:\n",
            "    https://scikit-learn.org/stable/modules/linear_model.html#logistic-regression\n",
            "  extra_warning_msg=_LOGISTIC_SOLVER_CONVERGENCE_MSG)\n",
            "/usr/local/lib/python3.7/dist-packages/ipykernel_launcher.py:11: SettingWithCopyWarning: \n",
            "A value is trying to be set on a copy of a slice from a DataFrame.\n",
            "Try using .loc[row_indexer,col_indexer] = value instead\n",
            "\n",
            "See the caveats in the documentation: https://pandas.pydata.org/pandas-docs/stable/user_guide/indexing.html#returning-a-view-versus-a-copy\n",
            "  # This is added back by InteractiveShellApp.init_path()\n",
            "/usr/local/lib/python3.7/dist-packages/ipykernel_launcher.py:11: SettingWithCopyWarning: \n",
            "A value is trying to be set on a copy of a slice from a DataFrame.\n",
            "Try using .loc[row_indexer,col_indexer] = value instead\n",
            "\n",
            "See the caveats in the documentation: https://pandas.pydata.org/pandas-docs/stable/user_guide/indexing.html#returning-a-view-versus-a-copy\n",
            "  # This is added back by InteractiveShellApp.init_path()\n"
          ],
          "name": "stderr"
        },
        {
          "output_type": "execute_result",
          "data": {
            "text/plain": [
              "(402509, 13)"
            ]
          },
          "metadata": {},
          "execution_count": 24
        }
      ]
    },
    {
      "cell_type": "code",
      "metadata": {
        "colab": {
          "base_uri": "https://localhost:8080/",
          "height": 223
        },
        "id": "UqauS0_fIUNH",
        "outputId": "3bf7f161-04a6-4f53-cb77-7b1b9f4376a0"
      },
      "source": [
        "df_pred.sample(5)"
      ],
      "execution_count": 25,
      "outputs": [
        {
          "output_type": "execute_result",
          "data": {
            "text/html": [
              "<div>\n",
              "<style scoped>\n",
              "    .dataframe tbody tr th:only-of-type {\n",
              "        vertical-align: middle;\n",
              "    }\n",
              "\n",
              "    .dataframe tbody tr th {\n",
              "        vertical-align: top;\n",
              "    }\n",
              "\n",
              "    .dataframe thead th {\n",
              "        text-align: right;\n",
              "    }\n",
              "</style>\n",
              "<table border=\"1\" class=\"dataframe\">\n",
              "  <thead>\n",
              "    <tr style=\"text-align: right;\">\n",
              "      <th></th>\n",
              "      <th>season</th>\n",
              "      <th>yardline_100</th>\n",
              "      <th>game_seconds_remaining</th>\n",
              "      <th>down</th>\n",
              "      <th>ydstogo</th>\n",
              "      <th>defteam_code</th>\n",
              "      <th>score_differential</th>\n",
              "      <th>is_home</th>\n",
              "      <th>pass_touchdown</th>\n",
              "      <th>passer_player_id</th>\n",
              "      <th>passer_player_name</th>\n",
              "      <th>game_id</th>\n",
              "      <th>pass_touchdown_pred</th>\n",
              "    </tr>\n",
              "  </thead>\n",
              "  <tbody>\n",
              "    <tr>\n",
              "      <th>132712</th>\n",
              "      <td>2019</td>\n",
              "      <td>73.0</td>\n",
              "      <td>1954.0</td>\n",
              "      <td>3.0</td>\n",
              "      <td>18</td>\n",
              "      <td>31</td>\n",
              "      <td>2.0</td>\n",
              "      <td>1</td>\n",
              "      <td>0.0</td>\n",
              "      <td>00-0034577</td>\n",
              "      <td>K.Allen</td>\n",
              "      <td>2019_13_WAS_CAR</td>\n",
              "      <td>0.001582</td>\n",
              "    </tr>\n",
              "    <tr>\n",
              "      <th>102429</th>\n",
              "      <td>2015</td>\n",
              "      <td>37.0</td>\n",
              "      <td>3028.0</td>\n",
              "      <td>1.0</td>\n",
              "      <td>10</td>\n",
              "      <td>23</td>\n",
              "      <td>-3.0</td>\n",
              "      <td>1</td>\n",
              "      <td>0.0</td>\n",
              "      <td>00-0028118</td>\n",
              "      <td>T.Taylor</td>\n",
              "      <td>2015_04_NYG_BUF</td>\n",
              "      <td>0.034759</td>\n",
              "    </tr>\n",
              "    <tr>\n",
              "      <th>387883</th>\n",
              "      <td>2017</td>\n",
              "      <td>80.0</td>\n",
              "      <td>2841.0</td>\n",
              "      <td>2.0</td>\n",
              "      <td>15</td>\n",
              "      <td>16</td>\n",
              "      <td>-16.0</td>\n",
              "      <td>1</td>\n",
              "      <td>0.0</td>\n",
              "      <td>00-0027948</td>\n",
              "      <td>B.Gabbert</td>\n",
              "      <td>2017_13_LA_ARI</td>\n",
              "      <td>0.001105</td>\n",
              "    </tr>\n",
              "    <tr>\n",
              "      <th>53993</th>\n",
              "      <td>2008</td>\n",
              "      <td>17.0</td>\n",
              "      <td>410.0</td>\n",
              "      <td>3.0</td>\n",
              "      <td>6</td>\n",
              "      <td>29</td>\n",
              "      <td>-11.0</td>\n",
              "      <td>0</td>\n",
              "      <td>0.0</td>\n",
              "      <td>00-0026143</td>\n",
              "      <td>M.Ryan</td>\n",
              "      <td>2008_02_ATL_TB</td>\n",
              "      <td>0.123394</td>\n",
              "    </tr>\n",
              "    <tr>\n",
              "      <th>347122</th>\n",
              "      <td>2011</td>\n",
              "      <td>64.0</td>\n",
              "      <td>167.0</td>\n",
              "      <td>2.0</td>\n",
              "      <td>10</td>\n",
              "      <td>11</td>\n",
              "      <td>-6.0</td>\n",
              "      <td>1</td>\n",
              "      <td>0.0</td>\n",
              "      <td>00-0027950</td>\n",
              "      <td>C.Ponder</td>\n",
              "      <td>2011_07_GB_MIN</td>\n",
              "      <td>0.004408</td>\n",
              "    </tr>\n",
              "  </tbody>\n",
              "</table>\n",
              "</div>"
            ],
            "text/plain": [
              "        season  yardline_100  ...          game_id  pass_touchdown_pred\n",
              "132712    2019          73.0  ...  2019_13_WAS_CAR             0.001582\n",
              "102429    2015          37.0  ...  2015_04_NYG_BUF             0.034759\n",
              "387883    2017          80.0  ...   2017_13_LA_ARI             0.001105\n",
              "53993     2008          17.0  ...   2008_02_ATL_TB             0.123394\n",
              "347122    2011          64.0  ...   2011_07_GB_MIN             0.004408\n",
              "\n",
              "[5 rows x 13 columns]"
            ]
          },
          "metadata": {},
          "execution_count": 25
        }
      ]
    },
    {
      "cell_type": "code",
      "metadata": {
        "id": "6LCKAlgzJ-qE"
      },
      "source": [
        "df_agg = df_pred.loc[:, ['passer_player_id', 'passer_player_name', 'season', 'pass_touchdown', 'pass_touchdown_pred']].groupby(['passer_player_id', 'passer_player_name', 'season'], as_index=False).sum()"
      ],
      "execution_count": 26,
      "outputs": []
    },
    {
      "cell_type": "code",
      "metadata": {
        "colab": {
          "base_uri": "https://localhost:8080/",
          "height": 296
        },
        "id": "0AJg3EQVK-rK",
        "outputId": "ffbaefb5-f78c-4d4f-d2e9-dfdf0441117b"
      },
      "source": [
        "rmse = mean_squared_error(df_agg[target], df_agg[f\"{target}_pred\"])**0.5\n",
        "sns.regplot(data=df_agg.loc[(df_agg[f'{target}_pred']>=10)], x=target, y=f'{target}_pred')\n",
        "plt.title(f\"rmse: {round(rmse, 2)}\")\n",
        "sns.despine()\n",
        "plt.show()"
      ],
      "execution_count": 27,
      "outputs": [
        {
          "output_type": "display_data",
          "data": {
            "image/png": "[encoded data removed]",
            "text/plain": [
              "<Figure size 432x288 with 1 Axes>"
            ]
          },
          "metadata": {
            "needs_background": "light"
          }
        }
      ]
    },
    {
      "cell_type": "code",
      "metadata": {
        "id": "KQGDCgFqLI3A"
      },
      "source": [
        "df_not_20 = df_not_20.dropna(subset=feats+[target])\n",
        "df_20 = df_20.dropna(subset=feats+[target])\n",
        "model = LogisticRegression()\n",
        "model.fit(df_not_20.loc[:, feats], df_not_20[target])\n",
        "df_20[f\"{target}_pred\"] = pd.DataFrame(model.predict_proba(df_20.loc[:, feats]), index=df_20.index)[1]"
      ],
      "execution_count": 28,
      "outputs": []
    },
    {
      "cell_type": "code",
      "metadata": {
        "colab": {
          "base_uri": "https://localhost:8080/",
          "height": 296
        },
        "id": "tHepXJ1PNURj",
        "outputId": "d12e5d95-e8a4-48dc-b4a5-1a0522e3b196"
      },
      "source": [
        "df_agg = df_20.loc[:, ['passer_player_id', 'passer_player_name', 'season', 'pass_touchdown', 'pass_touchdown_pred']].groupby(['passer_player_id', 'passer_player_name', 'season'], as_index=False).sum()\n",
        "rmse = mean_squared_error(df_agg[target], df_agg[f\"{target}_pred\"])**0.5\n",
        "sns.regplot(data=df_agg, x=target, y=f'{target}_pred')\n",
        "plt.title(f\"rmse: {round(rmse, 2)}\")\n",
        "sns.despine()\n",
        "plt.show()"
      ],
      "execution_count": 29,
      "outputs": [
        {
          "output_type": "display_data",
          "data": {
            "image/png": "[encoded data removed]",
            "text/plain": [
              "<Figure size 432x288 with 1 Axes>"
            ]
          },
          "metadata": {
            "needs_background": "light"
          }
        }
      ]
    },
    {
      "cell_type": "code",
      "metadata": {
        "colab": {
          "base_uri": "https://localhost:8080/"
        },
        "id": "PoTARmtnP1mW",
        "outputId": "9040dce1-ef1e-4e04-c64b-3e57939ba465"
      },
      "source": [
        "feats"
      ],
      "execution_count": 30,
      "outputs": [
        {
          "output_type": "execute_result",
          "data": {
            "text/plain": [
              "['season',\n",
              " 'yardline_100',\n",
              " 'game_seconds_remaining',\n",
              " 'down',\n",
              " 'ydstogo',\n",
              " 'defteam_code',\n",
              " 'score_differential',\n",
              " 'is_home']"
            ]
          },
          "metadata": {},
          "execution_count": 30
        }
      ]
    },
    {
      "cell_type": "code",
      "metadata": {
        "colab": {
          "base_uri": "https://localhost:8080/",
          "height": 431
        },
        "id": "kQsqXUXSOr-H",
        "outputId": "38967bcd-49cf-4b07-8165-413b4d52e372"
      },
      "source": [
        "sns.kdeplot(df_not_20['yardline_100'])\n",
        "df_not_20['yardline_100'].describe()"
      ],
      "execution_count": 31,
      "outputs": [
        {
          "output_type": "execute_result",
          "data": {
            "text/plain": [
              "count    402509.000000\n",
              "mean         52.510679\n",
              "std          23.496355\n",
              "min           1.000000\n",
              "25%          35.000000\n",
              "50%          56.000000\n",
              "75%          72.000000\n",
              "max          99.000000\n",
              "Name: yardline_100, dtype: float64"
            ]
          },
          "metadata": {},
          "execution_count": 31
        },
        {
          "output_type": "display_data",
          "data": {
            "image/png": "[encoded data removed]",
            "text/plain": [
              "<Figure size 432x288 with 1 Axes>"
            ]
          },
          "metadata": {
            "needs_background": "light"
          }
        }
      ]
    },
    {
      "cell_type": "code",
      "metadata": {
        "colab": {
          "base_uri": "https://localhost:8080/",
          "height": 431
        },
        "id": "9FOEdkyjTC0F",
        "outputId": "fc7d41d4-6409-4def-aeb1-b6712585291b"
      },
      "source": [
        "sns.kdeplot(df_20['yardline_100'])\n",
        "df_20['yardline_100'].describe()"
      ],
      "execution_count": 32,
      "outputs": [
        {
          "output_type": "execute_result",
          "data": {
            "text/plain": [
              "count    20170.000000\n",
              "mean        51.167724\n",
              "std         23.546092\n",
              "min          1.000000\n",
              "25%         33.000000\n",
              "50%         55.000000\n",
              "75%         71.000000\n",
              "max         99.000000\n",
              "Name: yardline_100, dtype: float64"
            ]
          },
          "metadata": {},
          "execution_count": 32
        },
        {
          "output_type": "display_data",
          "data": {
            "image/png": "[encoded data removed]",
            "text/plain": [
              "<Figure size 432x288 with 1 Axes>"
            ]
          },
          "metadata": {
            "needs_background": "light"
          }
        }
      ]
    },
    {
      "cell_type": "code",
      "metadata": {
        "colab": {
          "base_uri": "https://localhost:8080/",
          "height": 431
        },
        "id": "_nsTu-DaOebN",
        "outputId": "b5db076a-89b4-4d77-9b59-0184ddb5909e"
      },
      "source": [
        "pid = \"P.Mahomes\"\n",
        "sns.kdeplot(df_20.loc[df_20['passer_player_name']==pid,'yardline_100'])\n",
        "df_20.loc[df_20['passer_player_name']==pid,'yardline_100'].describe()"
      ],
      "execution_count": 80,
      "outputs": [
        {
          "output_type": "execute_result",
          "data": {
            "text/plain": [
              "count    731.000000\n",
              "mean      48.770178\n",
              "std       23.419620\n",
              "min        1.000000\n",
              "25%       30.000000\n",
              "50%       51.000000\n",
              "75%       68.000000\n",
              "max       99.000000\n",
              "Name: yardline_100, dtype: float64"
            ]
          },
          "metadata": {},
          "execution_count": 80
        },
        {
          "output_type": "display_data",
          "data": {
            "image/png": "[encoded data removed]",
            "text/plain": [
              "<Figure size 432x288 with 1 Axes>"
            ]
          },
          "metadata": {
            "needs_background": "light"
          }
        }
      ]
    },
    {
      "cell_type": "code",
      "metadata": {
        "colab": {
          "base_uri": "https://localhost:8080/",
          "height": 434
        },
        "id": "frNxOQS2O_si",
        "outputId": "276e911f-76d2-4fcb-8405-af79e6dee2ca"
      },
      "source": [
        "pid = \"P.Mahomes\"\n",
        "one_player = df_20.loc[df_20['passer_player_name']==pid]\n",
        "target = 'yardline_100'\n",
        "\n",
        "est_passes = one_player.shape[0]\n",
        "base_data = one_player.append(df_20.sample(int(round(est_passes*.75, 0))))\n",
        "base_data = base_data.sample(est_passes)\n",
        "\n",
        "sns.kdeplot(base_data.loc[base_data['passer_player_name']==pid,'yardline_100'])\n",
        "base_data.loc[base_data['passer_player_name']==pid,'yardline_100'].describe()"
      ],
      "execution_count": 81,
      "outputs": [
        {
          "output_type": "execute_result",
          "data": {
            "text/plain": [
              "count    438.000000\n",
              "mean      49.289954\n",
              "std       23.760156\n",
              "min        1.000000\n",
              "25%       30.250000\n",
              "50%       52.500000\n",
              "75%       68.000000\n",
              "max       99.000000\n",
              "Name: yardline_100, dtype: float64"
            ]
          },
          "metadata": {},
          "execution_count": 81
        },
        {
          "output_type": "display_data",
          "data": {
            "image/png": "[encoded data removed]",
            "text/plain": [
              "<Figure size 432x288 with 1 Axes>"
            ]
          },
          "metadata": {
            "needs_background": "light"
          }
        }
      ]
    },
    {
      "cell_type": "code",
      "metadata": {
        "colab": {
          "base_uri": "https://localhost:8080/",
          "height": 223
        },
        "id": "Wmt86zFg9kro",
        "outputId": "559c54a8-bd45-4edb-f600-50df318bd639"
      },
      "source": [
        "model_data.head(5)"
      ],
      "execution_count": 38,
      "outputs": [
        {
          "output_type": "execute_result",
          "data": {
            "text/html": [
              "<div>\n",
              "<style scoped>\n",
              "    .dataframe tbody tr th:only-of-type {\n",
              "        vertical-align: middle;\n",
              "    }\n",
              "\n",
              "    .dataframe tbody tr th {\n",
              "        vertical-align: top;\n",
              "    }\n",
              "\n",
              "    .dataframe thead th {\n",
              "        text-align: right;\n",
              "    }\n",
              "</style>\n",
              "<table border=\"1\" class=\"dataframe\">\n",
              "  <thead>\n",
              "    <tr style=\"text-align: right;\">\n",
              "      <th></th>\n",
              "      <th>season</th>\n",
              "      <th>yardline_100</th>\n",
              "      <th>game_seconds_remaining</th>\n",
              "      <th>down</th>\n",
              "      <th>ydstogo</th>\n",
              "      <th>defteam_code</th>\n",
              "      <th>score_differential</th>\n",
              "      <th>is_home</th>\n",
              "      <th>pass_touchdown</th>\n",
              "      <th>passer_player_id</th>\n",
              "      <th>passer_player_name</th>\n",
              "      <th>game_id</th>\n",
              "    </tr>\n",
              "  </thead>\n",
              "  <tbody>\n",
              "    <tr>\n",
              "      <th>3</th>\n",
              "      <td>2000</td>\n",
              "      <td>63.0</td>\n",
              "      <td>3544.0</td>\n",
              "      <td>2.0</td>\n",
              "      <td>8</td>\n",
              "      <td>23</td>\n",
              "      <td>0.0</td>\n",
              "      <td>0</td>\n",
              "      <td>0.0</td>\n",
              "      <td>00-0013042</td>\n",
              "      <td>J.Plummer</td>\n",
              "      <td>2000_01_ARI_NYG</td>\n",
              "    </tr>\n",
              "    <tr>\n",
              "      <th>4</th>\n",
              "      <td>2000</td>\n",
              "      <td>63.0</td>\n",
              "      <td>3537.0</td>\n",
              "      <td>3.0</td>\n",
              "      <td>8</td>\n",
              "      <td>23</td>\n",
              "      <td>0.0</td>\n",
              "      <td>0</td>\n",
              "      <td>0.0</td>\n",
              "      <td>00-0013042</td>\n",
              "      <td>J.Plummer</td>\n",
              "      <td>2000_01_ARI_NYG</td>\n",
              "    </tr>\n",
              "    <tr>\n",
              "      <th>9</th>\n",
              "      <td>2000</td>\n",
              "      <td>68.0</td>\n",
              "      <td>3520.0</td>\n",
              "      <td>2.0</td>\n",
              "      <td>11</td>\n",
              "      <td>0</td>\n",
              "      <td>0.0</td>\n",
              "      <td>1</td>\n",
              "      <td>0.0</td>\n",
              "      <td>00-0003292</td>\n",
              "      <td>K.Collins</td>\n",
              "      <td>2000_01_ARI_NYG</td>\n",
              "    </tr>\n",
              "    <tr>\n",
              "      <th>10</th>\n",
              "      <td>2000</td>\n",
              "      <td>53.0</td>\n",
              "      <td>3520.0</td>\n",
              "      <td>1.0</td>\n",
              "      <td>10</td>\n",
              "      <td>0</td>\n",
              "      <td>0.0</td>\n",
              "      <td>1</td>\n",
              "      <td>0.0</td>\n",
              "      <td>00-0003292</td>\n",
              "      <td>K.Collins</td>\n",
              "      <td>2000_01_ARI_NYG</td>\n",
              "    </tr>\n",
              "    <tr>\n",
              "      <th>11</th>\n",
              "      <td>2000</td>\n",
              "      <td>42.0</td>\n",
              "      <td>3359.0</td>\n",
              "      <td>1.0</td>\n",
              "      <td>10</td>\n",
              "      <td>0</td>\n",
              "      <td>0.0</td>\n",
              "      <td>1</td>\n",
              "      <td>0.0</td>\n",
              "      <td>00-0003292</td>\n",
              "      <td>K.Collins</td>\n",
              "      <td>2000_01_ARI_NYG</td>\n",
              "    </tr>\n",
              "  </tbody>\n",
              "</table>\n",
              "</div>"
            ],
            "text/plain": [
              "    season  yardline_100  ...  passer_player_name          game_id\n",
              "3     2000          63.0  ...           J.Plummer  2000_01_ARI_NYG\n",
              "4     2000          63.0  ...           J.Plummer  2000_01_ARI_NYG\n",
              "9     2000          68.0  ...           K.Collins  2000_01_ARI_NYG\n",
              "10    2000          53.0  ...           K.Collins  2000_01_ARI_NYG\n",
              "11    2000          42.0  ...           K.Collins  2000_01_ARI_NYG\n",
              "\n",
              "[5 rows x 12 columns]"
            ]
          },
          "metadata": {},
          "execution_count": 38
        }
      ]
    },
    {
      "cell_type": "code",
      "metadata": {
        "id": "zGGwlxsRXYfP"
      },
      "source": [
        "schedule = pd.read_csv('https://github.com/nflverse/nfldata/blob/master/data/games.csv?raw=true')\n",
        "schedule_21 = schedule.loc[schedule['season']==2021]"
      ],
      "execution_count": 291,
      "outputs": []
    },
    {
      "cell_type": "code",
      "metadata": {
        "colab": {
          "base_uri": "https://localhost:8080/"
        },
        "id": "86g1d3up_PVk",
        "outputId": "467532f2-bfec-4d99-b371-7ad1a513d662"
      },
      "source": [
        "roster = pd.read_csv('https://github.com/nflverse/nflfastR-roster/blob/master/data/seasons/roster_2021.csv?raw=true')\n",
        "qbs = roster.loc[(roster['depth_chart_position']=='QB') & (roster['status']=='Active')]\n",
        "qbs['passer_player_name'] = qbs['first_name'].str[0].add('.').add(qbs['last_name'])"
      ],
      "execution_count": 138,
      "outputs": [
        {
          "output_type": "stream",
          "text": [
            "/usr/local/lib/python3.7/dist-packages/ipykernel_launcher.py:3: SettingWithCopyWarning: \n",
            "A value is trying to be set on a copy of a slice from a DataFrame.\n",
            "Try using .loc[row_indexer,col_indexer] = value instead\n",
            "\n",
            "See the caveats in the documentation: https://pandas.pydata.org/pandas-docs/stable/user_guide/indexing.html#returning-a-view-versus-a-copy\n",
            "  This is separate from the ipykernel package so we can avoid doing imports until\n"
          ],
          "name": "stderr"
        }
      ]
    },
    {
      "cell_type": "code",
      "metadata": {
        "colab": {
          "base_uri": "https://localhost:8080/"
        },
        "id": "mZp57XjAC_nx",
        "outputId": "51e7b731-ae12-400f-d9db-6796e1da56ca"
      },
      "source": [
        ""
      ],
      "execution_count": 63,
      "outputs": [
        {
          "output_type": "execute_result",
          "data": {
            "text/plain": [
              "['season',\n",
              " 'yardline_100',\n",
              " 'game_seconds_remaining',\n",
              " 'down',\n",
              " 'ydstogo',\n",
              " 'defteam_code',\n",
              " 'score_differential',\n",
              " 'is_home']"
            ]
          },
          "metadata": {},
          "execution_count": 63
        }
      ]
    },
    {
      "cell_type": "code",
      "metadata": {
        "colab": {
          "base_uri": "https://localhost:8080/",
          "height": 1000
        },
        "id": "MwIeJIbe-8af",
        "outputId": "edbbb466-4df3-4154-a62a-58a12d488776"
      },
      "source": [
        "for x, y in itertools.product(['yardline_100', 'game_seconds_remaining', 'down', 'ydstogo'], ['yardline_100', 'game_seconds_remaining', 'down', 'ydstogo']):\n",
        "  sns.regplot(data=df.sample(10000), x=x, y=y)\n",
        "  sns.despine()\n",
        "  plt.title(f\"{x} X {y}\")\n",
        "  plt.show()\n"
      ],
      "execution_count": 64,
      "outputs": [
        {
          "output_type": "display_data",
          "data": {
            "image/png": "[encoded data removed]",
            "text/plain": [
              "<Figure size 432x288 with 1 Axes>"
            ]
          },
          "metadata": {
            "needs_background": "light"
          }
        },
        {
          "output_type": "display_data",
          "data": {
            "image/png": "[encoded data removed]",
            "text/plain": [
              "<Figure size 432x288 with 1 Axes>"
            ]
          },
          "metadata": {
            "needs_background": "light"
          }
        },
        {
          "output_type": "display_data",
          "data": {
            "image/png": "[encoded data removed]",
            "text/plain": [
              "<Figure size 432x288 with 1 Axes>"
            ]
          },
          "metadata": {
            "needs_background": "light"
          }
        },
        {
          "output_type": "display_data",
          "data": {
            "image/png": "[encoded data removed]",
            "text/plain": [
              "<Figure size 432x288 with 1 Axes>"
            ]
          },
          "metadata": {
            "needs_background": "light"
          }
        },
        {
          "output_type": "display_data",
          "data": {
            "image/png": "[encoded data removed]",
            "text/plain": [
              "<Figure size 432x288 with 1 Axes>"
            ]
          },
          "metadata": {
            "needs_background": "light"
          }
        },
        {
          "output_type": "display_data",
          "data": {
            "image/png": "[encoded data removed]",
            "text/plain": [
              "<Figure size 432x288 with 1 Axes>"
            ]
          },
          "metadata": {
            "needs_background": "light"
          }
        },
        {
          "output_type": "display_data",
          "data": {
            "image/png": "[encoded data removed]",
            "text/plain": [
              "<Figure size 432x288 with 1 Axes>"
            ]
          },
          "metadata": {
            "needs_background": "light"
          }
        },
        {
          "output_type": "display_data",
          "data": {
            "image/png": "[encoded data removed]",
            "text/plain": [
              "<Figure size 432x288 with 1 Axes>"
            ]
          },
          "metadata": {
            "needs_background": "light"
          }
        },
        {
          "output_type": "display_data",
          "data": {
            "image/png": "[encoded data removed]",
            "text/plain": [
              "<Figure size 432x288 with 1 Axes>"
            ]
          },
          "metadata": {
            "needs_background": "light"
          }
        },
        {
          "output_type": "display_data",
          "data": {
            "image/png": "[encoded data removed]",
            "text/plain": [
              "<Figure size 432x288 with 1 Axes>"
            ]
          },
          "metadata": {
            "needs_background": "light"
          }
        },
        {
          "output_type": "display_data",
          "data": {
            "image/png": "[encoded data removed]",
            "text/plain": [
              "<Figure size 432x288 with 1 Axes>"
            ]
          },
          "metadata": {
            "needs_background": "light"
          }
        },
        {
          "output_type": "display_data",
          "data": {
            "image/png": "[encoded data removed]",
            "text/plain": [
              "<Figure size 432x288 with 1 Axes>"
            ]
          },
          "metadata": {
            "needs_background": "light"
          }
        },
        {
          "output_type": "display_data",
          "data": {
            "image/png": "[encoded data removed]",
            "text/plain": [
              "<Figure size 432x288 with 1 Axes>"
            ]
          },
          "metadata": {
            "needs_background": "light"
          }
        },
        {
          "output_type": "display_data",
          "data": {
            "image/png": "[encoded data removed]",
            "text/plain": [
              "<Figure size 432x288 with 1 Axes>"
            ]
          },
          "metadata": {
            "needs_background": "light"
          }
        },
        {
          "output_type": "display_data",
          "data": {
            "image/png": "[encoded data removed]",
            "text/plain": [
              "<Figure size 432x288 with 1 Axes>"
            ]
          },
          "metadata": {
            "needs_background": "light"
          }
        },
        {
          "output_type": "display_data",
          "data": {
            "image/png": "[encoded data removed]",
            "text/plain": [
              "<Figure size 432x288 with 1 Axes>"
            ]
          },
          "metadata": {
            "needs_background": "light"
          }
        }
      ]
    },
    {
      "cell_type": "code",
      "metadata": {
        "colab": {
          "base_uri": "https://localhost:8080/"
        },
        "id": "ZohK7yS8MqDB",
        "outputId": "b68edb7a-14e3-4978-ddff-f6502d48ad95"
      },
      "source": [
        "one_player = df.loc[df['passer_player_name']==pid]\n",
        "est_passes = one_player.shape[0]\n",
        "base_data = one_player.append(df.sample(int(round(est_passes*.75, 0))))\n",
        "base_data.sample(est_passes).shape"
      ],
      "execution_count": 120,
      "outputs": [
        {
          "output_type": "execute_result",
          "data": {
            "text/plain": [
              "(2078, 374)"
            ]
          },
          "metadata": {},
          "execution_count": 120
        }
      ]
    },
    {
      "cell_type": "code",
      "metadata": {
        "colab": {
          "base_uri": "https://localhost:8080/",
          "height": 391
        },
        "id": "LtgXY1NXO26G",
        "outputId": "7130d7e0-4ddf-452b-cb74-374538c1de86"
      },
      "source": [
        "qbs.head()"
      ],
      "execution_count": 141,
      "outputs": [
        {
          "output_type": "execute_result",
          "data": {
            "text/html": [
              "<div>\n",
              "<style scoped>\n",
              "    .dataframe tbody tr th:only-of-type {\n",
              "        vertical-align: middle;\n",
              "    }\n",
              "\n",
              "    .dataframe tbody tr th {\n",
              "        vertical-align: top;\n",
              "    }\n",
              "\n",
              "    .dataframe thead th {\n",
              "        text-align: right;\n",
              "    }\n",
              "</style>\n",
              "<table border=\"1\" class=\"dataframe\">\n",
              "  <thead>\n",
              "    <tr style=\"text-align: right;\">\n",
              "      <th></th>\n",
              "      <th>season</th>\n",
              "      <th>team</th>\n",
              "      <th>position</th>\n",
              "      <th>depth_chart_position</th>\n",
              "      <th>jersey_number</th>\n",
              "      <th>status</th>\n",
              "      <th>full_name</th>\n",
              "      <th>first_name</th>\n",
              "      <th>last_name</th>\n",
              "      <th>birth_date</th>\n",
              "      <th>height</th>\n",
              "      <th>weight</th>\n",
              "      <th>college</th>\n",
              "      <th>high_school</th>\n",
              "      <th>gsis_id</th>\n",
              "      <th>espn_id</th>\n",
              "      <th>sportradar_id</th>\n",
              "      <th>yahoo_id</th>\n",
              "      <th>rotowire_id</th>\n",
              "      <th>pff_id</th>\n",
              "      <th>fantasy_data_id</th>\n",
              "      <th>sleeper_id</th>\n",
              "      <th>years_exp</th>\n",
              "      <th>headshot_url</th>\n",
              "      <th>passer_player_name</th>\n",
              "    </tr>\n",
              "  </thead>\n",
              "  <tbody>\n",
              "    <tr>\n",
              "      <th>79</th>\n",
              "      <td>2021</td>\n",
              "      <td>ARI</td>\n",
              "      <td>QB</td>\n",
              "      <td>QB</td>\n",
              "      <td>12.0</td>\n",
              "      <td>Active</td>\n",
              "      <td>Colt McCoy</td>\n",
              "      <td>Colt</td>\n",
              "      <td>McCoy</td>\n",
              "      <td>1986-09-05</td>\n",
              "      <td>6-1</td>\n",
              "      <td>212.0</td>\n",
              "      <td>Texas</td>\n",
              "      <td>Jim Ned (TX)</td>\n",
              "      <td>00-0027688</td>\n",
              "      <td>13199.0</td>\n",
              "      <td>3699dfd9-d437-43f7-b674-adbb31e7e64b</td>\n",
              "      <td>24060.0</td>\n",
              "      <td>6444.0</td>\n",
              "      <td>5609.0</td>\n",
              "      <td>11047.0</td>\n",
              "      <td>533</td>\n",
              "      <td>11.0</td>\n",
              "      <td>https://a.espncdn.com/combiner/i?img=/i/headsh...</td>\n",
              "      <td>C.McCoy</td>\n",
              "    </tr>\n",
              "    <tr>\n",
              "      <th>80</th>\n",
              "      <td>2021</td>\n",
              "      <td>ARI</td>\n",
              "      <td>QB</td>\n",
              "      <td>QB</td>\n",
              "      <td>9.0</td>\n",
              "      <td>Active</td>\n",
              "      <td>Cole McDonald</td>\n",
              "      <td>Cole</td>\n",
              "      <td>McDonald</td>\n",
              "      <td>1998-05-20</td>\n",
              "      <td>6-4</td>\n",
              "      <td>220.0</td>\n",
              "      <td>Hawaii</td>\n",
              "      <td>Sonora (CA)</td>\n",
              "      <td>NaN</td>\n",
              "      <td>4038220.0</td>\n",
              "      <td>2d907c0c-cf4e-4564-b9eb-560d84f16144</td>\n",
              "      <td>32894.0</td>\n",
              "      <td>14493.0</td>\n",
              "      <td>NaN</td>\n",
              "      <td>21822.0</td>\n",
              "      <td>6954</td>\n",
              "      <td>1.0</td>\n",
              "      <td>https://a.espncdn.com/combiner/i?img=/i/headsh...</td>\n",
              "      <td>C.McDonald</td>\n",
              "    </tr>\n",
              "    <tr>\n",
              "      <th>81</th>\n",
              "      <td>2021</td>\n",
              "      <td>ARI</td>\n",
              "      <td>QB</td>\n",
              "      <td>QB</td>\n",
              "      <td>1.0</td>\n",
              "      <td>Active</td>\n",
              "      <td>Kyler Murray</td>\n",
              "      <td>Kyler</td>\n",
              "      <td>Murray</td>\n",
              "      <td>1997-08-07</td>\n",
              "      <td>5-10</td>\n",
              "      <td>207.0</td>\n",
              "      <td>Oklahoma</td>\n",
              "      <td>Allen (TX)</td>\n",
              "      <td>00-0035228</td>\n",
              "      <td>3917315.0</td>\n",
              "      <td>dd5a6b6e-ffae-45a5-b8e6-718a9251f374</td>\n",
              "      <td>31833.0</td>\n",
              "      <td>13613.0</td>\n",
              "      <td>38334.0</td>\n",
              "      <td>20889.0</td>\n",
              "      <td>5849</td>\n",
              "      <td>2.0</td>\n",
              "      <td>https://a.espncdn.com/combiner/i?img=/i/headsh...</td>\n",
              "      <td>K.Murray</td>\n",
              "    </tr>\n",
              "    <tr>\n",
              "      <th>82</th>\n",
              "      <td>2021</td>\n",
              "      <td>ARI</td>\n",
              "      <td>QB</td>\n",
              "      <td>QB</td>\n",
              "      <td>15.0</td>\n",
              "      <td>Active</td>\n",
              "      <td>Chris Streveler</td>\n",
              "      <td>Chris</td>\n",
              "      <td>Streveler</td>\n",
              "      <td>1995-01-06</td>\n",
              "      <td>6-3</td>\n",
              "      <td>215.0</td>\n",
              "      <td>South Dakota</td>\n",
              "      <td>Marian Central Catholic (IL)</td>\n",
              "      <td>00-0035752</td>\n",
              "      <td>3040206.0</td>\n",
              "      <td>23461354-f2d7-4e36-9046-fe9cde6dd413</td>\n",
              "      <td>32662.0</td>\n",
              "      <td>14587.0</td>\n",
              "      <td>46440.0</td>\n",
              "      <td>21866.0</td>\n",
              "      <td>6778</td>\n",
              "      <td>1.0</td>\n",
              "      <td>https://a.espncdn.com/combiner/i?img=/i/headsh...</td>\n",
              "      <td>C.Streveler</td>\n",
              "    </tr>\n",
              "    <tr>\n",
              "      <th>190</th>\n",
              "      <td>2021</td>\n",
              "      <td>ATL</td>\n",
              "      <td>QB</td>\n",
              "      <td>QB</td>\n",
              "      <td>2.0</td>\n",
              "      <td>Active</td>\n",
              "      <td>Matt Ryan</td>\n",
              "      <td>Matt</td>\n",
              "      <td>Ryan</td>\n",
              "      <td>1985-05-17</td>\n",
              "      <td>6-4</td>\n",
              "      <td>217.0</td>\n",
              "      <td>Boston College</td>\n",
              "      <td>Penn (PA)</td>\n",
              "      <td>00-0026143</td>\n",
              "      <td>11237.0</td>\n",
              "      <td>7e648a0b-fdc8-4661-a587-5826f2cac11b</td>\n",
              "      <td>8780.0</td>\n",
              "      <td>5610.0</td>\n",
              "      <td>4317.0</td>\n",
              "      <td>732.0</td>\n",
              "      <td>24</td>\n",
              "      <td>13.0</td>\n",
              "      <td>https://a.espncdn.com/combiner/i?img=/i/headsh...</td>\n",
              "      <td>M.Ryan</td>\n",
              "    </tr>\n",
              "  </tbody>\n",
              "</table>\n",
              "</div>"
            ],
            "text/plain": [
              "     season  ... passer_player_name\n",
              "79     2021  ...            C.McCoy\n",
              "80     2021  ...         C.McDonald\n",
              "81     2021  ...           K.Murray\n",
              "82     2021  ...        C.Streveler\n",
              "190    2021  ...             M.Ryan\n",
              "\n",
              "[5 rows x 25 columns]"
            ]
          },
          "metadata": {},
          "execution_count": 141
        }
      ]
    },
    {
      "cell_type": "code",
      "metadata": {
        "id": "5yH0GiehPQ51"
      },
      "source": [
        "qb_list = qbs.loc[:, ['gsis_id', 'passer_player_name', 'team']].drop_duplicates().dropna()"
      ],
      "execution_count": 145,
      "outputs": []
    },
    {
      "cell_type": "code",
      "metadata": {
        "id": "5QLfl7ceLwFM"
      },
      "source": [
        "est_passes = df.loc[:, ['passer_player_id','season', 'game_seconds_remaining']].groupby(['passer_player_id','season'], as_index=False).count()\n",
        "def n_ft_pt_passes(est_passes=est_passes):\n",
        "  x = est_passes['game_seconds_remaining']\n",
        "  pt_est_passes = x[x.between(20,250)].sample(1).values[0]\n",
        "  ft_est_passes = x[x>450].sample(1).values[0]\n",
        "  return pt_est_passes, ft_est_passes\n",
        "\n",
        "\n",
        "def sim_data(pid, target, data_to_sample=df, pt_est_passes=pt_est_passes, \n",
        "             ft_est_passes=ft_est_passes):\n",
        "  one_player = data_to_sample.loc[data_to_sample['passer_player_id']==pid]  \n",
        "  if (one_player.empty) | (pt_est_passes>one_player.shape[0]):        \n",
        "    _base_data_ft = data_to_sample.sample(ft_est_passes)\n",
        "    _base_data_ft['is_ft'] = 1\n",
        "    _base_data_pt = data_to_sample.sample(pt_est_passes)\n",
        "    _base_data_pt['is_ft'] = 0    \n",
        "  else:\n",
        "    _est_passes = one_player.shape[0]\n",
        "    _base_data = one_player.append(data_to_sample.sample(int(round(_est_passes*.5, 0))))\n",
        "    _base_data_ft = _base_data.sample(_est_passes)\n",
        "    _base_data_ft['is_ft'] = 1\n",
        "\n",
        "    _base_data_pt = _base_data.sample(pt_est_passes)\n",
        "    _base_data_pt['is_ft'] = 0\n",
        "\n",
        "  base_data = _base_data_ft.append(_base_data_pt, ignore_index=True)\n",
        "  output = base_data.loc[:, [target, 'is_ft']]\n",
        "  return output"
      ],
      "execution_count": 349,
      "outputs": []
    },
    {
      "cell_type": "code",
      "metadata": {
        "colab": {
          "base_uri": "https://localhost:8080/",
          "height": 81,
          "referenced_widgets": [
            "3cf2216017b54a9fb85e322019b4e828",
            "d9b8025680b54fcb9874f3aafb9d5aa8",
            "a58ef562cb5246b19ff1fe8421ba1bd1",
            "82b16891a0be40179b7b6dcbf8c46b75",
            "f38e7616deaa43a3a1b396ced4172fb1",
            "08b83b1dc5574199b24babf9f9af55c5",
            "7c9a7d124b364e4cabebaa34901fd395",
            "e0efbf5b57db41c5a642d99c7a91c03f",
            "c8961344a1744f3b9029c3e1e5a5ec81",
            "9a0ebf7d45bc461c935822988f20dd7e",
            "72c301b917204be4be01e67409e86d62",
            "631d6b9faff143438d4a925ecae84c9d",
            "041cf18dd71d49d2a68c34e4e65358fc",
            "9eaa61c22cd245d6b8b03a6cddbf0d02",
            "e52fc032e3c74ca08a206d3b948c2362",
            "f0feaf69d34645cc8dee47dee3899eb4",
            "5e9c7066f68e4ac1aab8b04dd9f9335d",
            "519b2b4cae6b4f18bdbca2f844874126",
            "f3cec091964b4c68b09e0f8667a9bf49",
            "34802633207e46d4a80b53f28e109656",
            "5e90e229da5f4f8aaa9f8c5398b4bc19",
            "6d8f80f5a78f41988f146937e1eb1815"
          ]
        },
        "id": "SK5Gmw7ZG93l",
        "outputId": "65ac3a17-bdb0-4dd5-ae2b-4979ee9b4c2a"
      },
      "source": [
        "warnings.filterwarnings('ignore')\n",
        "team_schedule = pd.DataFrame()\n",
        "for team in tqdm(schedule_21['home_team'].unique()):\n",
        "  _team_schedule = schedule_21.loc[(schedule_21['away_team']==team) | (schedule_21['home_team']==team)]\n",
        "  _team_schedule['is_home'] = 0\n",
        "  _team_schedule.loc[_team_schedule['home_team']==team, 'is_home'] = 1\n",
        "  _team_schedule['defteam'] = _team_schedule['away_team']\n",
        "  _team_schedule.loc[_team_schedule['is_home']==0, 'defteam'] = _team_schedule.loc[_team_schedule['is_home']==0, 'home_team']\n",
        "  _team_schedule['team'] = team\n",
        "  team_schedule = team_schedule.append(_team_schedule, ignore_index=True)\n",
        "warnings.filterwarnings('default')  \n",
        "team_schedule = team_schedule.loc[:, ['game_id', 'team', 'is_home', 'defteam']]\n",
        "team_schedule = team_schedule.merge(df.loc[:, ['defteam','defteam_code']].drop_duplicates())\n",
        "\n",
        "df_sim = pd.DataFrame()\n",
        "for idx, row in tqdm(qb_list.iterrows(), total=qb_list.shape[0]):\n",
        "  pid = row['gsis_id']\n",
        "  pt_est_passes, ft_est_passes = n_ft_pt_passes()\n",
        "  for idx, target in enumerate(['yardline_100', 'game_seconds_remaining', 'down', 'ydstogo', 'score_differential']):\n",
        "    if idx==0:\n",
        "      _df_sim = sim_data(pid, target, data_to_sample=df_20.dropna(subset=[target]), pt_est_passes=pt_est_passes, \n",
        "              ft_est_passes=ft_est_passes) \n",
        "    else:\n",
        "      _df = sim_data(pid, target, data_to_sample=df_20.dropna(subset=[target]), \n",
        "                    pt_est_passes=pt_est_passes, ft_est_passes=ft_est_passes) \n",
        "      _df_sim[target] = _df[target]\n",
        "\n",
        "  _df_sim['passer_player_id'] = pid\n",
        "  _df_sim['passer_player_name'] = row['passer_player_name']\n",
        "  _df_sim['team'] = row['team']\n",
        "  _team_ids = pd.Series(team_schedule.loc[team_schedule['team']==row['team'], 'game_id'].sample(_df_sim.shape[0], replace=True).values)\n",
        "  _df_sim['game_id'] = _team_ids\n",
        "  df_sim = df_sim.append(_df_sim, ignore_index=True)\n",
        "df_sim['season'] = 2021  \n",
        "df_sim = df_sim.merge(team_schedule)"
      ],
      "execution_count": 350,
      "outputs": [
        {
          "output_type": "display_data",
          "data": {
            "application/vnd.jupyter.widget-view+json": {
              "model_id": "3cf2216017b54a9fb85e322019b4e828",
              "version_minor": 0,
              "version_major": 2
            },
            "text/plain": [
              "  0%|          | 0/32 [00:00<?, ?it/s]"
            ]
          },
          "metadata": {}
        },
        {
          "output_type": "display_data",
          "data": {
            "application/vnd.jupyter.widget-view+json": {
              "model_id": "631d6b9faff143438d4a925ecae84c9d",
              "version_minor": 0,
              "version_major": 2
            },
            "text/plain": [
              "  0%|          | 0/113 [00:00<?, ?it/s]"
            ]
          },
          "metadata": {}
        }
      ]
    },
    {
      "cell_type": "code",
      "metadata": {
        "id": "JeU_OleDioM9"
      },
      "source": [
        "warnings.filterwarnings('ignore')\n",
        "feats = ['season', 'yardline_100', 'game_seconds_remaining', 'down', 'ydstogo', \n",
        "         'defteam_code', 'score_differential', 'is_home']\n",
        "target = 'pass_touchdown'\n",
        "\n",
        "model_data = df.loc[(df['pass_attempt']==1)].dropna(subset=feats+[target])\n",
        "model = LogisticRegression()\n",
        "model.fit(model_data.loc[:, feats], model_data[target])\n",
        "df_sim[f\"{target}_pred\"] = pd.DataFrame(model.predict_proba(df_sim.loc[:, feats]), index=df_sim.index)[1]\n",
        "warnings.filterwarnings('default')  "
      ],
      "execution_count": 355,
      "outputs": []
    },
    {
      "cell_type": "code",
      "metadata": {
        "colab": {
          "base_uri": "https://localhost:8080/",
          "height": 295
        },
        "id": "20dADTpEjp7f",
        "outputId": "92457886-8305-45e4-84e6-dee896e4f7cf"
      },
      "source": [
        "df_agg = df_sim.loc[:, ['team', 'passer_player_name', 'is_ft','pass_touchdown_pred']].groupby(['team', 'passer_player_name', 'is_ft'], as_index=False).sum()\n",
        "df_agg.loc[df_agg['team']=='KC'].sort_values('pass_touchdown_pred', ascending=False)"
      ],
      "execution_count": 356,
      "outputs": [
        {
          "output_type": "execute_result",
          "data": {
            "text/html": [
              "<div>\n",
              "<style scoped>\n",
              "    .dataframe tbody tr th:only-of-type {\n",
              "        vertical-align: middle;\n",
              "    }\n",
              "\n",
              "    .dataframe tbody tr th {\n",
              "        vertical-align: top;\n",
              "    }\n",
              "\n",
              "    .dataframe thead th {\n",
              "        text-align: right;\n",
              "    }\n",
              "</style>\n",
              "<table border=\"1\" class=\"dataframe\">\n",
              "  <thead>\n",
              "    <tr style=\"text-align: right;\">\n",
              "      <th></th>\n",
              "      <th>team</th>\n",
              "      <th>passer_player_name</th>\n",
              "      <th>is_ft</th>\n",
              "      <th>pass_touchdown_pred</th>\n",
              "    </tr>\n",
              "  </thead>\n",
              "  <tbody>\n",
              "    <tr>\n",
              "      <th>109</th>\n",
              "      <td>KC</td>\n",
              "      <td>P.Mahomes</td>\n",
              "      <td>1</td>\n",
              "      <td>30.949911</td>\n",
              "    </tr>\n",
              "    <tr>\n",
              "      <th>105</th>\n",
              "      <td>KC</td>\n",
              "      <td>A.Gordon</td>\n",
              "      <td>1</td>\n",
              "      <td>26.367462</td>\n",
              "    </tr>\n",
              "    <tr>\n",
              "      <th>111</th>\n",
              "      <td>KC</td>\n",
              "      <td>S.Buechele</td>\n",
              "      <td>1</td>\n",
              "      <td>21.259779</td>\n",
              "    </tr>\n",
              "    <tr>\n",
              "      <th>110</th>\n",
              "      <td>KC</td>\n",
              "      <td>S.Buechele</td>\n",
              "      <td>0</td>\n",
              "      <td>8.423683</td>\n",
              "    </tr>\n",
              "    <tr>\n",
              "      <th>108</th>\n",
              "      <td>KC</td>\n",
              "      <td>P.Mahomes</td>\n",
              "      <td>0</td>\n",
              "      <td>7.489097</td>\n",
              "    </tr>\n",
              "    <tr>\n",
              "      <th>106</th>\n",
              "      <td>KC</td>\n",
              "      <td>C.Henne</td>\n",
              "      <td>0</td>\n",
              "      <td>2.080209</td>\n",
              "    </tr>\n",
              "    <tr>\n",
              "      <th>107</th>\n",
              "      <td>KC</td>\n",
              "      <td>C.Henne</td>\n",
              "      <td>1</td>\n",
              "      <td>2.036257</td>\n",
              "    </tr>\n",
              "    <tr>\n",
              "      <th>104</th>\n",
              "      <td>KC</td>\n",
              "      <td>A.Gordon</td>\n",
              "      <td>0</td>\n",
              "      <td>0.815245</td>\n",
              "    </tr>\n",
              "  </tbody>\n",
              "</table>\n",
              "</div>"
            ],
            "text/plain": [
              "    team passer_player_name  is_ft  pass_touchdown_pred\n",
              "109   KC          P.Mahomes      1            30.949911\n",
              "105   KC           A.Gordon      1            26.367462\n",
              "111   KC         S.Buechele      1            21.259779\n",
              "110   KC         S.Buechele      0             8.423683\n",
              "108   KC          P.Mahomes      0             7.489097\n",
              "106   KC            C.Henne      0             2.080209\n",
              "107   KC            C.Henne      1             2.036257\n",
              "104   KC           A.Gordon      0             0.815245"
            ]
          },
          "metadata": {},
          "execution_count": 356
        }
      ]
    },
    {
      "cell_type": "code",
      "metadata": {
        "colab": {
          "base_uri": "https://localhost:8080/",
          "height": 1000
        },
        "id": "58eJYEYakB-s",
        "outputId": "b3fdf548-4dac-4744-f28d-93a664819d52"
      },
      "source": [
        "df_agg.sort_values('pass_touchdown_pred', ascending=False).head(40)"
      ],
      "execution_count": 358,
      "outputs": [
        {
          "output_type": "execute_result",
          "data": {
            "text/html": [
              "<div>\n",
              "<style scoped>\n",
              "    .dataframe tbody tr th:only-of-type {\n",
              "        vertical-align: middle;\n",
              "    }\n",
              "\n",
              "    .dataframe tbody tr th {\n",
              "        vertical-align: top;\n",
              "    }\n",
              "\n",
              "    .dataframe thead th {\n",
              "        text-align: right;\n",
              "    }\n",
              "</style>\n",
              "<table border=\"1\" class=\"dataframe\">\n",
              "  <thead>\n",
              "    <tr style=\"text-align: right;\">\n",
              "      <th></th>\n",
              "      <th>team</th>\n",
              "      <th>passer_player_name</th>\n",
              "      <th>is_ft</th>\n",
              "      <th>pass_touchdown_pred</th>\n",
              "    </tr>\n",
              "  </thead>\n",
              "  <tbody>\n",
              "    <tr>\n",
              "      <th>21</th>\n",
              "      <td>BUF</td>\n",
              "      <td>J.Allen</td>\n",
              "      <td>1</td>\n",
              "      <td>36.834505</td>\n",
              "    </tr>\n",
              "    <tr>\n",
              "      <th>209</th>\n",
              "      <td>TB</td>\n",
              "      <td>T.Brady</td>\n",
              "      <td>1</td>\n",
              "      <td>36.148458</td>\n",
              "    </tr>\n",
              "    <tr>\n",
              "      <th>71</th>\n",
              "      <td>GB</td>\n",
              "      <td>A.Rodgers</td>\n",
              "      <td>1</td>\n",
              "      <td>31.762281</td>\n",
              "    </tr>\n",
              "    <tr>\n",
              "      <th>75</th>\n",
              "      <td>GB</td>\n",
              "      <td>J.Dolegala</td>\n",
              "      <td>1</td>\n",
              "      <td>31.618374</td>\n",
              "    </tr>\n",
              "    <tr>\n",
              "      <th>109</th>\n",
              "      <td>KC</td>\n",
              "      <td>P.Mahomes</td>\n",
              "      <td>1</td>\n",
              "      <td>30.949911</td>\n",
              "    </tr>\n",
              "    <tr>\n",
              "      <th>171</th>\n",
              "      <td>NYJ</td>\n",
              "      <td>M.White</td>\n",
              "      <td>1</td>\n",
              "      <td>30.510685</td>\n",
              "    </tr>\n",
              "    <tr>\n",
              "      <th>181</th>\n",
              "      <td>PIT</td>\n",
              "      <td>B.Roethlisberger</td>\n",
              "      <td>1</td>\n",
              "      <td>29.619741</td>\n",
              "    </tr>\n",
              "    <tr>\n",
              "      <th>199</th>\n",
              "      <td>SF</td>\n",
              "      <td>N.Sudfeld</td>\n",
              "      <td>1</td>\n",
              "      <td>29.042901</td>\n",
              "    </tr>\n",
              "    <tr>\n",
              "      <th>193</th>\n",
              "      <td>SEA</td>\n",
              "      <td>R.Wilson</td>\n",
              "      <td>1</td>\n",
              "      <td>28.791676</td>\n",
              "    </tr>\n",
              "    <tr>\n",
              "      <th>11</th>\n",
              "      <td>ATL</td>\n",
              "      <td>M.Ryan</td>\n",
              "      <td>1</td>\n",
              "      <td>28.786658</td>\n",
              "    </tr>\n",
              "    <tr>\n",
              "      <th>19</th>\n",
              "      <td>BUF</td>\n",
              "      <td>D.Webb</td>\n",
              "      <td>1</td>\n",
              "      <td>28.730493</td>\n",
              "    </tr>\n",
              "    <tr>\n",
              "      <th>69</th>\n",
              "      <td>DET</td>\n",
              "      <td>T.Boyle</td>\n",
              "      <td>1</td>\n",
              "      <td>28.158557</td>\n",
              "    </tr>\n",
              "    <tr>\n",
              "      <th>133</th>\n",
              "      <td>MIA</td>\n",
              "      <td>J.Brissett</td>\n",
              "      <td>1</td>\n",
              "      <td>28.018839</td>\n",
              "    </tr>\n",
              "    <tr>\n",
              "      <th>191</th>\n",
              "      <td>SEA</td>\n",
              "      <td>G.Smith</td>\n",
              "      <td>1</td>\n",
              "      <td>27.825603</td>\n",
              "    </tr>\n",
              "    <tr>\n",
              "      <th>95</th>\n",
              "      <td>IND</td>\n",
              "      <td>S.Ehlinger</td>\n",
              "      <td>1</td>\n",
              "      <td>27.754307</td>\n",
              "    </tr>\n",
              "    <tr>\n",
              "      <th>139</th>\n",
              "      <td>MIN</td>\n",
              "      <td>J.Browning</td>\n",
              "      <td>1</td>\n",
              "      <td>27.689531</td>\n",
              "    </tr>\n",
              "    <tr>\n",
              "      <th>81</th>\n",
              "      <td>HOU</td>\n",
              "      <td>D.Mills</td>\n",
              "      <td>1</td>\n",
              "      <td>27.639722</td>\n",
              "    </tr>\n",
              "    <tr>\n",
              "      <th>7</th>\n",
              "      <td>ATL</td>\n",
              "      <td>F.Franks</td>\n",
              "      <td>1</td>\n",
              "      <td>27.593488</td>\n",
              "    </tr>\n",
              "    <tr>\n",
              "      <th>43</th>\n",
              "      <td>CLE</td>\n",
              "      <td>B.Mayfield</td>\n",
              "      <td>1</td>\n",
              "      <td>27.433620</td>\n",
              "    </tr>\n",
              "    <tr>\n",
              "      <th>213</th>\n",
              "      <td>TEN</td>\n",
              "      <td>L.Woodside</td>\n",
              "      <td>1</td>\n",
              "      <td>27.375565</td>\n",
              "    </tr>\n",
              "    <tr>\n",
              "      <th>151</th>\n",
              "      <td>NE</td>\n",
              "      <td>J.Stidham</td>\n",
              "      <td>1</td>\n",
              "      <td>27.328616</td>\n",
              "    </tr>\n",
              "    <tr>\n",
              "      <th>211</th>\n",
              "      <td>TEN</td>\n",
              "      <td>D.Kizer</td>\n",
              "      <td>1</td>\n",
              "      <td>27.273621</td>\n",
              "    </tr>\n",
              "    <tr>\n",
              "      <th>79</th>\n",
              "      <td>GB</td>\n",
              "      <td>K.Benkert</td>\n",
              "      <td>1</td>\n",
              "      <td>26.639084</td>\n",
              "    </tr>\n",
              "    <tr>\n",
              "      <th>105</th>\n",
              "      <td>KC</td>\n",
              "      <td>A.Gordon</td>\n",
              "      <td>1</td>\n",
              "      <td>26.367462</td>\n",
              "    </tr>\n",
              "    <tr>\n",
              "      <th>17</th>\n",
              "      <td>BAL</td>\n",
              "      <td>T.McSorley</td>\n",
              "      <td>1</td>\n",
              "      <td>26.366186</td>\n",
              "    </tr>\n",
              "    <tr>\n",
              "      <th>127</th>\n",
              "      <td>LV</td>\n",
              "      <td>D.Carr</td>\n",
              "      <td>1</td>\n",
              "      <td>26.303169</td>\n",
              "    </tr>\n",
              "    <tr>\n",
              "      <th>47</th>\n",
              "      <td>CLE</td>\n",
              "      <td>K.Lauletta</td>\n",
              "      <td>1</td>\n",
              "      <td>26.209058</td>\n",
              "    </tr>\n",
              "    <tr>\n",
              "      <th>189</th>\n",
              "      <td>SEA</td>\n",
              "      <td>A.McGough</td>\n",
              "      <td>1</td>\n",
              "      <td>26.142318</td>\n",
              "    </tr>\n",
              "    <tr>\n",
              "      <th>205</th>\n",
              "      <td>TB</td>\n",
              "      <td>K.Trask</td>\n",
              "      <td>1</td>\n",
              "      <td>25.656226</td>\n",
              "    </tr>\n",
              "    <tr>\n",
              "      <th>137</th>\n",
              "      <td>MIN</td>\n",
              "      <td>D.Etling</td>\n",
              "      <td>1</td>\n",
              "      <td>25.432882</td>\n",
              "    </tr>\n",
              "    <tr>\n",
              "      <th>215</th>\n",
              "      <td>TEN</td>\n",
              "      <td>M.Barkley</td>\n",
              "      <td>1</td>\n",
              "      <td>25.158745</td>\n",
              "    </tr>\n",
              "    <tr>\n",
              "      <th>207</th>\n",
              "      <td>TB</td>\n",
              "      <td>R.Griffin</td>\n",
              "      <td>1</td>\n",
              "      <td>25.107750</td>\n",
              "    </tr>\n",
              "    <tr>\n",
              "      <th>9</th>\n",
              "      <td>ATL</td>\n",
              "      <td>J.Rosen</td>\n",
              "      <td>1</td>\n",
              "      <td>24.998815</td>\n",
              "    </tr>\n",
              "    <tr>\n",
              "      <th>123</th>\n",
              "      <td>LAC</td>\n",
              "      <td>E.Stick</td>\n",
              "      <td>1</td>\n",
              "      <td>24.552590</td>\n",
              "    </tr>\n",
              "    <tr>\n",
              "      <th>65</th>\n",
              "      <td>DET</td>\n",
              "      <td>J.Goff</td>\n",
              "      <td>1</td>\n",
              "      <td>24.405079</td>\n",
              "    </tr>\n",
              "    <tr>\n",
              "      <th>125</th>\n",
              "      <td>LAC</td>\n",
              "      <td>J.Herbert</td>\n",
              "      <td>1</td>\n",
              "      <td>24.201417</td>\n",
              "    </tr>\n",
              "    <tr>\n",
              "      <th>5</th>\n",
              "      <td>ARI</td>\n",
              "      <td>K.Murray</td>\n",
              "      <td>1</td>\n",
              "      <td>24.199646</td>\n",
              "    </tr>\n",
              "    <tr>\n",
              "      <th>83</th>\n",
              "      <td>HOU</td>\n",
              "      <td>D.Watson</td>\n",
              "      <td>1</td>\n",
              "      <td>24.056899</td>\n",
              "    </tr>\n",
              "    <tr>\n",
              "      <th>27</th>\n",
              "      <td>CAR</td>\n",
              "      <td>P.Walker</td>\n",
              "      <td>1</td>\n",
              "      <td>23.842873</td>\n",
              "    </tr>\n",
              "    <tr>\n",
              "      <th>129</th>\n",
              "      <td>LV</td>\n",
              "      <td>M.Mariota</td>\n",
              "      <td>1</td>\n",
              "      <td>23.631899</td>\n",
              "    </tr>\n",
              "  </tbody>\n",
              "</table>\n",
              "</div>"
            ],
            "text/plain": [
              "    team passer_player_name  is_ft  pass_touchdown_pred\n",
              "21   BUF            J.Allen      1            36.834505\n",
              "209   TB            T.Brady      1            36.148458\n",
              "71    GB          A.Rodgers      1            31.762281\n",
              "75    GB         J.Dolegala      1            31.618374\n",
              "109   KC          P.Mahomes      1            30.949911\n",
              "171  NYJ            M.White      1            30.510685\n",
              "181  PIT   B.Roethlisberger      1            29.619741\n",
              "199   SF          N.Sudfeld      1            29.042901\n",
              "193  SEA           R.Wilson      1            28.791676\n",
              "11   ATL             M.Ryan      1            28.786658\n",
              "19   BUF             D.Webb      1            28.730493\n",
              "69   DET            T.Boyle      1            28.158557\n",
              "133  MIA         J.Brissett      1            28.018839\n",
              "191  SEA            G.Smith      1            27.825603\n",
              "95   IND         S.Ehlinger      1            27.754307\n",
              "139  MIN         J.Browning      1            27.689531\n",
              "81   HOU            D.Mills      1            27.639722\n",
              "7    ATL           F.Franks      1            27.593488\n",
              "43   CLE         B.Mayfield      1            27.433620\n",
              "213  TEN         L.Woodside      1            27.375565\n",
              "151   NE          J.Stidham      1            27.328616\n",
              "211  TEN            D.Kizer      1            27.273621\n",
              "79    GB          K.Benkert      1            26.639084\n",
              "105   KC           A.Gordon      1            26.367462\n",
              "17   BAL         T.McSorley      1            26.366186\n",
              "127   LV             D.Carr      1            26.303169\n",
              "47   CLE         K.Lauletta      1            26.209058\n",
              "189  SEA          A.McGough      1            26.142318\n",
              "205   TB            K.Trask      1            25.656226\n",
              "137  MIN           D.Etling      1            25.432882\n",
              "215  TEN          M.Barkley      1            25.158745\n",
              "207   TB          R.Griffin      1            25.107750\n",
              "9    ATL            J.Rosen      1            24.998815\n",
              "123  LAC            E.Stick      1            24.552590\n",
              "65   DET             J.Goff      1            24.405079\n",
              "125  LAC          J.Herbert      1            24.201417\n",
              "5    ARI           K.Murray      1            24.199646\n",
              "83   HOU           D.Watson      1            24.056899\n",
              "27   CAR           P.Walker      1            23.842873\n",
              "129   LV          M.Mariota      1            23.631899"
            ]
          },
          "metadata": {},
          "execution_count": 358
        }
      ]
    },
    {
      "cell_type": "markdown",
      "metadata": {
        "id": "FCtd6BJImata"
      },
      "source": [
        "# places to improve  \n",
        "\n",
        "this model + simulation is actually ultra ass. like it's so bad i'm kinda embarrassed that i made it at all and am proud of it in any way. it's really bad. like, no one should use this info for anything -- not even fantasy. like, you'll lose your fantasy league if you use these values AS IS in this notebook.\n",
        "\n",
        "HOWEVER! There are lots of places for improvement. Here are some of the key areas you can improve this simple model into an advanced model with relative ease: \n",
        "* **better modeling data**. the data in this model is extremely simple! it would probably be improved if you have better data inputs -- we used a very small subset of features, but there are quite literally >300 features to choose from in the `nflfastR` data repo  \n",
        "* **better model selection**. we used logistic regression and it was pretty decent, even though i know very well that logistic regression for predicting QB TDs is probably ass. you can have a much stronger, accurate prediction using more advanced modeling techniques. \n",
        "* **better simulation of 2021**. we literally used the maybe worst-but-acceptable simulation possible. you can improve the 2021 simulation input very easily imo by using `pymc3`, any `scipy` distribution sampling methods, fitting better distributions than simply empirical sampling, having model-driving simulations that take into account more information (e.g. more about the player + coach + team + opponent + formation + game state, perhaps?), or any other simulation techniques out there. there's a lot you can do to simulate and since that is one of the biggest, and perhaps most subjective, pieces of this model, diving into what makes a good simulation is pretty important to learn if this kind of stuff interests you!  \n",
        "\n",
        "Overall, this notebook wasn't really meant for any strong accurate predictions. Rather, it was meant for (strangely) academic/educational purposes -- which is fairly rare on this stream. I do hope anyone who uses this as ML inspo or sports analytics inspo starts with some of the stuff here but improves upon the really lacking parts (as named above).  \n",
        "\n",
        "-nw 2021-08-25"
      ]
    }
  ]
}